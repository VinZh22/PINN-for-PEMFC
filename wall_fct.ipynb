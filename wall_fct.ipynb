{
 "cells": [
  {
   "cell_type": "code",
   "execution_count": 2,
   "id": "e02b5c0d",
   "metadata": {},
   "outputs": [],
   "source": [
    "import pandas as pd\n",
    "import torch\n",
    "import matplotlib.pyplot as plt\n",
    "import torch.nn as nn\n",
    "import numpy as np"
   ]
  },
  {
   "cell_type": "code",
   "execution_count": 3,
   "id": "f2a9970b",
   "metadata": {},
   "outputs": [],
   "source": [
    "from src.models import model"
   ]
  },
  {
   "cell_type": "code",
   "execution_count": 4,
   "id": "d64189b7",
   "metadata": {},
   "outputs": [],
   "source": [
    "device = \"cuda\""
   ]
  },
  {
   "cell_type": "code",
   "execution_count": 5,
   "id": "30555e96",
   "metadata": {},
   "outputs": [],
   "source": [
    "PINN = model.PINN_import(\"./results/2025-06-17_15-33-07/model_intermediate_model.pth\", input_len=256, output_len=4, data_input=4, RFF = True, device = device)"
   ]
  },
  {
   "cell_type": "code",
   "execution_count": 6,
   "id": "3dc2aa10",
   "metadata": {},
   "outputs": [],
   "source": [
    "datafile = \"./data/periodic_data_cleaned.csv\""
   ]
  },
  {
   "cell_type": "code",
   "execution_count": 7,
   "id": "8f35a972",
   "metadata": {},
   "outputs": [],
   "source": [
    "df = pd.read_csv(datafile)"
   ]
  },
  {
   "cell_type": "code",
   "execution_count": 8,
   "id": "9c34613f",
   "metadata": {},
   "outputs": [
    {
     "data": {
      "text/html": [
       "<div>\n",
       "<style scoped>\n",
       "    .dataframe tbody tr th:only-of-type {\n",
       "        vertical-align: middle;\n",
       "    }\n",
       "\n",
       "    .dataframe tbody tr th {\n",
       "        vertical-align: top;\n",
       "    }\n",
       "\n",
       "    .dataframe thead th {\n",
       "        text-align: right;\n",
       "    }\n",
       "</style>\n",
       "<table border=\"1\" class=\"dataframe\">\n",
       "  <thead>\n",
       "    <tr style=\"text-align: right;\">\n",
       "      <th></th>\n",
       "      <th>Time</th>\n",
       "      <th>point_id</th>\n",
       "      <th>Points:0</th>\n",
       "      <th>Points:1</th>\n",
       "      <th>Points:2</th>\n",
       "      <th>p</th>\n",
       "      <th>U:0</th>\n",
       "      <th>U:1</th>\n",
       "      <th>U:2</th>\n",
       "    </tr>\n",
       "  </thead>\n",
       "  <tbody>\n",
       "    <tr>\n",
       "      <th>count</th>\n",
       "      <td>7.704929e+07</td>\n",
       "      <td>7.704929e+07</td>\n",
       "      <td>7.704929e+07</td>\n",
       "      <td>7.704929e+07</td>\n",
       "      <td>7.704929e+07</td>\n",
       "      <td>7.704929e+07</td>\n",
       "      <td>7.704929e+07</td>\n",
       "      <td>7.704929e+07</td>\n",
       "      <td>7.704929e+07</td>\n",
       "    </tr>\n",
       "    <tr>\n",
       "      <th>mean</th>\n",
       "      <td>1.250000e+03</td>\n",
       "      <td>7.689500e+04</td>\n",
       "      <td>2.000000e+00</td>\n",
       "      <td>1.000000e+00</td>\n",
       "      <td>1.000000e+00</td>\n",
       "      <td>1.590331e-05</td>\n",
       "      <td>3.081454e-01</td>\n",
       "      <td>-6.297386e-06</td>\n",
       "      <td>-1.241456e-04</td>\n",
       "    </tr>\n",
       "    <tr>\n",
       "      <th>std</th>\n",
       "      <td>7.231298e+02</td>\n",
       "      <td>4.439564e+04</td>\n",
       "      <td>1.183216e+00</td>\n",
       "      <td>7.831043e-01</td>\n",
       "      <td>5.962848e-01</td>\n",
       "      <td>6.356747e-04</td>\n",
       "      <td>1.443003e-01</td>\n",
       "      <td>6.359226e-03</td>\n",
       "      <td>1.031086e-02</td>\n",
       "    </tr>\n",
       "    <tr>\n",
       "      <th>min</th>\n",
       "      <td>0.000000e+00</td>\n",
       "      <td>0.000000e+00</td>\n",
       "      <td>0.000000e+00</td>\n",
       "      <td>0.000000e+00</td>\n",
       "      <td>0.000000e+00</td>\n",
       "      <td>-8.385121e-03</td>\n",
       "      <td>-8.813336e-03</td>\n",
       "      <td>-1.204620e-01</td>\n",
       "      <td>-1.552387e-01</td>\n",
       "    </tr>\n",
       "    <tr>\n",
       "      <th>25%</th>\n",
       "      <td>6.250000e+02</td>\n",
       "      <td>3.844700e+04</td>\n",
       "      <td>1.000000e+00</td>\n",
       "      <td>1.629123e-01</td>\n",
       "      <td>4.666667e-01</td>\n",
       "      <td>-9.548649e-05</td>\n",
       "      <td>2.039667e-01</td>\n",
       "      <td>-6.542691e-04</td>\n",
       "      <td>-1.708895e-03</td>\n",
       "    </tr>\n",
       "    <tr>\n",
       "      <th>50%</th>\n",
       "      <td>1.250000e+03</td>\n",
       "      <td>7.689500e+04</td>\n",
       "      <td>2.000000e+00</td>\n",
       "      <td>1.000000e+00</td>\n",
       "      <td>1.000000e+00</td>\n",
       "      <td>-1.415304e-09</td>\n",
       "      <td>3.637780e-01</td>\n",
       "      <td>0.000000e+00</td>\n",
       "      <td>0.000000e+00</td>\n",
       "    </tr>\n",
       "    <tr>\n",
       "      <th>75%</th>\n",
       "      <td>1.875000e+03</td>\n",
       "      <td>1.153430e+05</td>\n",
       "      <td>3.000000e+00</td>\n",
       "      <td>1.837088e+00</td>\n",
       "      <td>1.533333e+00</td>\n",
       "      <td>1.319332e-04</td>\n",
       "      <td>4.216372e-01</td>\n",
       "      <td>6.422824e-04</td>\n",
       "      <td>1.228451e-03</td>\n",
       "    </tr>\n",
       "    <tr>\n",
       "      <th>max</th>\n",
       "      <td>2.500000e+03</td>\n",
       "      <td>1.537900e+05</td>\n",
       "      <td>4.000000e+00</td>\n",
       "      <td>2.000000e+00</td>\n",
       "      <td>2.000000e+00</td>\n",
       "      <td>1.199402e-02</td>\n",
       "      <td>5.526472e-01</td>\n",
       "      <td>1.126035e-01</td>\n",
       "      <td>1.541705e-01</td>\n",
       "    </tr>\n",
       "  </tbody>\n",
       "</table>\n",
       "</div>"
      ],
      "text/plain": [
       "               Time      point_id      Points:0      Points:1      Points:2  \\\n",
       "count  7.704929e+07  7.704929e+07  7.704929e+07  7.704929e+07  7.704929e+07   \n",
       "mean   1.250000e+03  7.689500e+04  2.000000e+00  1.000000e+00  1.000000e+00   \n",
       "std    7.231298e+02  4.439564e+04  1.183216e+00  7.831043e-01  5.962848e-01   \n",
       "min    0.000000e+00  0.000000e+00  0.000000e+00  0.000000e+00  0.000000e+00   \n",
       "25%    6.250000e+02  3.844700e+04  1.000000e+00  1.629123e-01  4.666667e-01   \n",
       "50%    1.250000e+03  7.689500e+04  2.000000e+00  1.000000e+00  1.000000e+00   \n",
       "75%    1.875000e+03  1.153430e+05  3.000000e+00  1.837088e+00  1.533333e+00   \n",
       "max    2.500000e+03  1.537900e+05  4.000000e+00  2.000000e+00  2.000000e+00   \n",
       "\n",
       "                  p           U:0           U:1           U:2  \n",
       "count  7.704929e+07  7.704929e+07  7.704929e+07  7.704929e+07  \n",
       "mean   1.590331e-05  3.081454e-01 -6.297386e-06 -1.241456e-04  \n",
       "std    6.356747e-04  1.443003e-01  6.359226e-03  1.031086e-02  \n",
       "min   -8.385121e-03 -8.813336e-03 -1.204620e-01 -1.552387e-01  \n",
       "25%   -9.548649e-05  2.039667e-01 -6.542691e-04 -1.708895e-03  \n",
       "50%   -1.415304e-09  3.637780e-01  0.000000e+00  0.000000e+00  \n",
       "75%    1.319332e-04  4.216372e-01  6.422824e-04  1.228451e-03  \n",
       "max    1.199402e-02  5.526472e-01  1.126035e-01  1.541705e-01  "
      ]
     },
     "execution_count": 8,
     "metadata": {},
     "output_type": "execute_result"
    }
   ],
   "source": [
    "df.describe()"
   ]
  },
  {
   "cell_type": "code",
   "execution_count": 9,
   "id": "c62de381",
   "metadata": {},
   "outputs": [],
   "source": [
    "horizon = df.loc[np.abs(df[\"Points:0\"])==0.].reset_index()\n",
    "horizon = horizon[horizon[\"Points:2\"]==0.]"
   ]
  },
  {
   "cell_type": "code",
   "execution_count": 10,
   "id": "b48448f4",
   "metadata": {},
   "outputs": [],
   "source": [
    "time = np.random.randint(80, 150)"
   ]
  },
  {
   "cell_type": "code",
   "execution_count": 11,
   "id": "3d30c025",
   "metadata": {},
   "outputs": [],
   "source": [
    "horizon = horizon[horizon[\"Time\"]==time*10]"
   ]
  },
  {
   "cell_type": "code",
   "execution_count": 12,
   "id": "369adba8",
   "metadata": {},
   "outputs": [],
   "source": [
    "horizon = horizon[horizon[\"Points:1\"]>1.5]"
   ]
  },
  {
   "cell_type": "code",
   "execution_count": 13,
   "id": "900597f9",
   "metadata": {},
   "outputs": [
    {
     "name": "stdout",
     "output_type": "stream",
     "text": [
      "<class 'pandas.core.frame.DataFrame'>\n",
      "Index: 48 entries, 665830 to 665877\n",
      "Data columns (total 10 columns):\n",
      " #   Column    Non-Null Count  Dtype  \n",
      "---  ------    --------------  -----  \n",
      " 0   index     48 non-null     int64  \n",
      " 1   Time      48 non-null     float64\n",
      " 2   point_id  48 non-null     int64  \n",
      " 3   Points:0  48 non-null     float64\n",
      " 4   Points:1  48 non-null     float64\n",
      " 5   Points:2  48 non-null     float64\n",
      " 6   p         48 non-null     float64\n",
      " 7   U:0       48 non-null     float64\n",
      " 8   U:1       48 non-null     float64\n",
      " 9   U:2       48 non-null     float64\n",
      "dtypes: float64(8), int64(2)\n",
      "memory usage: 4.1 KB\n"
     ]
    }
   ],
   "source": [
    "horizon.info()"
   ]
  },
  {
   "cell_type": "code",
   "execution_count": 14,
   "id": "e4130ecb",
   "metadata": {},
   "outputs": [],
   "source": [
    "y_axis = horizon[\"Points:1\"].values\n",
    "u_x = horizon[\"U:0\"].values\n",
    "x_axis = horizon[\"Points:0\"].values\n",
    "abs_x_axis = np.abs(x_axis)"
   ]
  },
  {
   "cell_type": "code",
   "execution_count": 15,
   "id": "4f87e7be",
   "metadata": {},
   "outputs": [
    {
     "data": {
      "image/png": "[encoded data removed]",
      "text/plain": [
       "<Figure size 640x480 with 2 Axes>"
      ]
     },
     "metadata": {},
     "output_type": "display_data"
    }
   ],
   "source": [
    "plt.scatter(u_x, y_axis, label=\"U:0\")\n",
    "plt.xlabel(\"U_x\")\n",
    "plt.ylabel(\"Y-axis\")\n",
    "plt.title(\"U:1 at Time = {}\".format(time))\n",
    "plt.legend()\n",
    "plt.colorbar(label=\"X-axis\")\n",
    "plt.show()"
   ]
  },
  {
   "cell_type": "code",
   "execution_count": 16,
   "id": "61816a8b",
   "metadata": {},
   "outputs": [],
   "source": [
    "import src.tools.util_func as util_func"
   ]
  },
  {
   "cell_type": "code",
   "execution_count": 17,
   "id": "9f0c193b",
   "metadata": {},
   "outputs": [
    {
     "name": "stdout",
     "output_type": "stream",
     "text": [
      "Non-dimensionalization parameters:\n",
      "Length scale (L): 1.8683925867080688\n",
      "Velocity scale (U_hat): 0.17297884821891785\n",
      "Time scale (T_hat): 10.801278114318848\n",
      "Reynolds number (Re): 16159.619390964506\n"
     ]
    }
   ],
   "source": [
    "forward_transform_input, forward_transform_output, inverse_transform_input, inverse_transform_output, Re = util_func.get_ND_non_dim(datafile, df, 2e-5)"
   ]
  },
  {
   "cell_type": "code",
   "execution_count": 18,
   "id": "8675ae11",
   "metadata": {},
   "outputs": [],
   "source": [
    "Y_range = torch.linspace(0., 2., 100)\n",
    "## give me a tensor of (0., Y_range, time) knowing that Y_range is a tensor of shape (100,)\n",
    "X_axis = 1. * torch.ones((Y_range.shape[0]))\n",
    "Z_axis = 1. * torch.ones((Y_range.shape[0]))\n",
    "time_axis = 1.  * torch.ones((Y_range.shape[0]))\n",
    "\n",
    "input_tensor = torch.stack((time_axis, X_axis, Y_range, Z_axis), dim=1)\n",
    "input_tensor_np = input_tensor.numpy()\n",
    "input_tensor = forward_transform_input(input_tensor)\n",
    "input_tensor = torch.tensor(input_tensor_np, dtype=torch.float32)\n",
    "input_tensor = input_tensor.to(device)"
   ]
  },
  {
   "cell_type": "code",
   "execution_count": 19,
   "id": "68c40f6c",
   "metadata": {},
   "outputs": [],
   "source": [
    "PINN = PINN.to(device)"
   ]
  },
  {
   "cell_type": "code",
   "execution_count": 20,
   "id": "e06e7d6b",
   "metadata": {},
   "outputs": [],
   "source": [
    "U_x_pred = PINN(input_tensor)"
   ]
  },
  {
   "cell_type": "code",
   "execution_count": 21,
   "id": "882b2633",
   "metadata": {},
   "outputs": [
    {
     "name": "stdout",
     "output_type": "stream",
     "text": [
      "[ 0.4101809   0.41238335  0.41443843  0.4163464   0.41810784  0.419723\n",
      "  0.42119226  0.42251611  0.42369479  0.42472905  0.42561904  0.426366\n",
      "  0.42697042  0.42743224  0.42775172  0.42792895  0.42796335  0.42785391\n",
      "  0.42759994  0.42719939  0.42665082  0.42595184  0.42510039  0.42409343\n",
      "  0.42292854  0.42160246  0.42011198  0.4184545   0.41662651  0.41462457\n",
      "  0.41244555  0.41008556  0.40754056  0.40480632  0.40187803  0.3987506\n",
      "  0.39541805  0.39187402  0.38811207  0.3841247   0.37990421  0.37544262\n",
      "  0.37073106  0.36576065  0.36052209  0.35500571  0.34920159  0.34309989\n",
      "  0.33669004  0.32996175  0.32290474  0.31550807  0.30776143  0.29965359\n",
      "  0.29117417  0.28231221  0.2730577   0.26340047  0.2533316   0.24284379\n",
      "  0.23193167  0.22059277  0.20882986  0.19665059  0.18406938  0.17110756\n",
      "  0.15779217  0.14415598  0.13023812  0.11608341  0.1017421   0.08726877\n",
      "  0.07271923  0.05814886  0.04360701  0.02913071  0.01473894  0.00043101\n",
      " -0.01380971 -0.02800193 -0.04215212 -0.05624272 -0.07023598 -0.08408783\n",
      " -0.09776555 -0.11125569 -0.12456203 -0.13769585 -0.15066674 -0.16347575\n",
      " -0.17611349 -0.1885591  -0.20078197 -0.21274398 -0.22440517 -0.23572625\n",
      " -0.246674   -0.25722209 -0.26735526 -0.2770662 ]\n"
     ]
    }
   ],
   "source": [
    "y_axis = input_tensor[:, 2].cpu().detach().numpy()\n",
    "u_x_pred = inverse_transform_output(U_x_pred.cpu().detach().numpy())\n",
    "u_x_axis = u_x_pred[:, 0]\n",
    "print(u_x_axis)"
   ]
  },
  {
   "cell_type": "code",
   "execution_count": 22,
   "id": "3f0e0d62",
   "metadata": {},
   "outputs": [
    {
     "name": "stderr",
     "output_type": "stream",
     "text": [
      "/tmp/ipykernel_4065756/444733591.py:5: UserWarning: No artists with labels found to put in legend.  Note that artists whose label start with an underscore are ignored when legend() is called with no argument.\n",
      "  plt.legend()\n"
     ]
    },
    {
     "data": {
      "image/png": "[encoded data removed]",
      "text/plain": [
       "<Figure size 640x480 with 1 Axes>"
      ]
     },
     "metadata": {},
     "output_type": "display_data"
    }
   ],
   "source": [
    "plt.scatter(u_x_axis, y_axis,)\n",
    "plt.xlabel(\"U_x\")\n",
    "plt.ylabel(\"Y-axis\")\n",
    "plt.title(\"U:0 at Time = {}\".format(time))\n",
    "plt.legend()\n",
    "plt.show()"
   ]
  },
  {
   "cell_type": "markdown",
   "id": "e8cbf39b",
   "metadata": {},
   "source": [
    "## Annex stuff"
   ]
  },
  {
   "cell_type": "code",
   "execution_count": 23,
   "id": "ae898adc",
   "metadata": {},
   "outputs": [],
   "source": [
    "from src.data_process.load_data import import_data\n",
    "import src.tools.plot_tools as plot_tools"
   ]
  },
  {
   "cell_type": "code",
   "execution_count": 24,
   "id": "75b56ee5",
   "metadata": {},
   "outputs": [],
   "source": [
    "x, y = import_data(datafile, df, forward_transform_input, forward_transform_output)"
   ]
  },
  {
   "cell_type": "code",
   "execution_count": 25,
   "id": "254aa2e2",
   "metadata": {},
   "outputs": [],
   "source": [
    "x = torch.tensor(x, dtype=torch.float32, device=device)\n",
    "y = torch.tensor(y, dtype=torch.float32, device=device)"
   ]
  },
  {
   "cell_type": "code",
   "execution_count": 26,
   "id": "179fef2a",
   "metadata": {},
   "outputs": [],
   "source": [
    "t, _, _, _ = forward_transform_input(np.array([time, 1., 0., 1.]))"
   ]
  },
  {
   "cell_type": "code",
   "execution_count": 27,
   "id": "b8f925c1",
   "metadata": {},
   "outputs": [
    {
     "data": {
      "text/plain": [
       "-104.01553598851346"
      ]
     },
     "execution_count": 27,
     "metadata": {},
     "output_type": "execute_result"
    }
   ],
   "source": [
    "t"
   ]
  },
  {
   "cell_type": "code",
   "execution_count": 28,
   "id": "62454f15",
   "metadata": {},
   "outputs": [
    {
     "data": {
      "text/plain": [
       "tensor([-115.4957, -115.4957, -115.4957,  ...,  -70.1307,  -70.1307,\n",
       "         -70.1307], device='cuda:0')"
      ]
     },
     "execution_count": 28,
     "metadata": {},
     "output_type": "execute_result"
    }
   ],
   "source": [
    "x[:, 0]"
   ]
  },
  {
   "cell_type": "code",
   "execution_count": 38,
   "id": "22c34b90",
   "metadata": {},
   "outputs": [],
   "source": [
    "indx = torch.where(torch.abs(x[:, 0] - t) < 0.5)\n",
    "x_time = x[indx]\n",
    "y_time = y[indx]"
   ]
  },
  {
   "cell_type": "code",
   "execution_count": 39,
   "id": "10462647",
   "metadata": {},
   "outputs": [
    {
     "data": {
      "text/plain": [
       "tensor([-104.3859, -103.9230], device='cuda:0')"
      ]
     },
     "execution_count": 39,
     "metadata": {},
     "output_type": "execute_result"
    }
   ],
   "source": [
    "x_time[:, 0].unique()"
   ]
  },
  {
   "cell_type": "code",
   "execution_count": 31,
   "id": "5967e540",
   "metadata": {},
   "outputs": [
    {
     "ename": "OutOfMemoryError",
     "evalue": "CUDA out of memory. Tried to allocate 602.00 MiB. GPU 0 has a total capacity of 23.54 GiB of which 45.12 MiB is free. Process 3869604 has 10.97 GiB memory in use. Including non-PyTorch memory, this process has 12.46 GiB memory in use. Of the allocated memory 11.72 GiB is allocated by PyTorch, and 305.72 MiB is reserved by PyTorch but unallocated. If reserved but unallocated memory is large try setting PYTORCH_CUDA_ALLOC_CONF=expandable_segments:True to avoid fragmentation.  See documentation for Memory Management  (https://pytorch.org/docs/stable/notes/cuda.html#environment-variables)",
     "output_type": "error",
     "traceback": [
      "\u001b[31m---------------------------------------------------------------------------\u001b[39m",
      "\u001b[31mOutOfMemoryError\u001b[39m                          Traceback (most recent call last)",
      "\u001b[36mCell\u001b[39m\u001b[36m \u001b[39m\u001b[32mIn[31]\u001b[39m\u001b[32m, line 1\u001b[39m\n\u001b[32m----> \u001b[39m\u001b[32m1\u001b[39m pred_all = \u001b[43mPINN\u001b[49m\u001b[43m(\u001b[49m\u001b[43mx_time\u001b[49m\u001b[43m.\u001b[49m\u001b[43mto\u001b[49m\u001b[43m(\u001b[49m\u001b[43mdevice\u001b[49m\u001b[43m)\u001b[49m\u001b[43m)\u001b[49m\n\u001b[32m      2\u001b[39m mse = nn.MSELoss()\n\u001b[32m      3\u001b[39m loss = mse(pred_all, y_time.to(device))\n",
      "\u001b[36mFile \u001b[39m\u001b[32m~/anaconda3/envs/vincent/lib/python3.12/site-packages/torch/nn/modules/module.py:1751\u001b[39m, in \u001b[36mModule._wrapped_call_impl\u001b[39m\u001b[34m(self, *args, **kwargs)\u001b[39m\n\u001b[32m   1749\u001b[39m     \u001b[38;5;28;01mreturn\u001b[39;00m \u001b[38;5;28mself\u001b[39m._compiled_call_impl(*args, **kwargs)  \u001b[38;5;66;03m# type: ignore[misc]\u001b[39;00m\n\u001b[32m   1750\u001b[39m \u001b[38;5;28;01melse\u001b[39;00m:\n\u001b[32m-> \u001b[39m\u001b[32m1751\u001b[39m     \u001b[38;5;28;01mreturn\u001b[39;00m \u001b[38;5;28;43mself\u001b[39;49m\u001b[43m.\u001b[49m\u001b[43m_call_impl\u001b[49m\u001b[43m(\u001b[49m\u001b[43m*\u001b[49m\u001b[43margs\u001b[49m\u001b[43m,\u001b[49m\u001b[43m \u001b[49m\u001b[43m*\u001b[49m\u001b[43m*\u001b[49m\u001b[43mkwargs\u001b[49m\u001b[43m)\u001b[49m\n",
      "\u001b[36mFile \u001b[39m\u001b[32m~/anaconda3/envs/vincent/lib/python3.12/site-packages/torch/nn/modules/module.py:1762\u001b[39m, in \u001b[36mModule._call_impl\u001b[39m\u001b[34m(self, *args, **kwargs)\u001b[39m\n\u001b[32m   1757\u001b[39m \u001b[38;5;66;03m# If we don't have any hooks, we want to skip the rest of the logic in\u001b[39;00m\n\u001b[32m   1758\u001b[39m \u001b[38;5;66;03m# this function, and just call forward.\u001b[39;00m\n\u001b[32m   1759\u001b[39m \u001b[38;5;28;01mif\u001b[39;00m \u001b[38;5;129;01mnot\u001b[39;00m (\u001b[38;5;28mself\u001b[39m._backward_hooks \u001b[38;5;129;01mor\u001b[39;00m \u001b[38;5;28mself\u001b[39m._backward_pre_hooks \u001b[38;5;129;01mor\u001b[39;00m \u001b[38;5;28mself\u001b[39m._forward_hooks \u001b[38;5;129;01mor\u001b[39;00m \u001b[38;5;28mself\u001b[39m._forward_pre_hooks\n\u001b[32m   1760\u001b[39m         \u001b[38;5;129;01mor\u001b[39;00m _global_backward_pre_hooks \u001b[38;5;129;01mor\u001b[39;00m _global_backward_hooks\n\u001b[32m   1761\u001b[39m         \u001b[38;5;129;01mor\u001b[39;00m _global_forward_hooks \u001b[38;5;129;01mor\u001b[39;00m _global_forward_pre_hooks):\n\u001b[32m-> \u001b[39m\u001b[32m1762\u001b[39m     \u001b[38;5;28;01mreturn\u001b[39;00m \u001b[43mforward_call\u001b[49m\u001b[43m(\u001b[49m\u001b[43m*\u001b[49m\u001b[43margs\u001b[49m\u001b[43m,\u001b[49m\u001b[43m \u001b[49m\u001b[43m*\u001b[49m\u001b[43m*\u001b[49m\u001b[43mkwargs\u001b[49m\u001b[43m)\u001b[49m\n\u001b[32m   1764\u001b[39m result = \u001b[38;5;28;01mNone\u001b[39;00m\n\u001b[32m   1765\u001b[39m called_always_called_hooks = \u001b[38;5;28mset\u001b[39m()\n",
      "\u001b[36mFile \u001b[39m\u001b[32m~/vincent/DeepXDE_test/Gitlab_proj/PINN_custom/src/models/model.py:35\u001b[39m, in \u001b[36mPINN.forward\u001b[39m\u001b[34m(self, x)\u001b[39m\n\u001b[32m     31\u001b[39m     x_sin = torch.sin(x).T\n\u001b[32m     33\u001b[39m     x = torch.cat((x_cos, x_sin), dim = \u001b[32m1\u001b[39m)\n\u001b[32m---> \u001b[39m\u001b[32m35\u001b[39m y = \u001b[38;5;28;43mself\u001b[39;49m\u001b[43m.\u001b[49m\u001b[43mmodel\u001b[49m\u001b[43m(\u001b[49m\u001b[43mx\u001b[49m\u001b[43m)\u001b[49m\n\u001b[32m     36\u001b[39m \u001b[38;5;66;03m# Apply the hard constraint if provided\u001b[39;00m\n\u001b[32m     37\u001b[39m \u001b[38;5;28;01mif\u001b[39;00m \u001b[38;5;28mself\u001b[39m.hard_constraint \u001b[38;5;129;01mis\u001b[39;00m \u001b[38;5;129;01mnot\u001b[39;00m \u001b[38;5;28;01mNone\u001b[39;00m:\n",
      "\u001b[36mFile \u001b[39m\u001b[32m~/anaconda3/envs/vincent/lib/python3.12/site-packages/torch/nn/modules/module.py:1751\u001b[39m, in \u001b[36mModule._wrapped_call_impl\u001b[39m\u001b[34m(self, *args, **kwargs)\u001b[39m\n\u001b[32m   1749\u001b[39m     \u001b[38;5;28;01mreturn\u001b[39;00m \u001b[38;5;28mself\u001b[39m._compiled_call_impl(*args, **kwargs)  \u001b[38;5;66;03m# type: ignore[misc]\u001b[39;00m\n\u001b[32m   1750\u001b[39m \u001b[38;5;28;01melse\u001b[39;00m:\n\u001b[32m-> \u001b[39m\u001b[32m1751\u001b[39m     \u001b[38;5;28;01mreturn\u001b[39;00m \u001b[38;5;28;43mself\u001b[39;49m\u001b[43m.\u001b[49m\u001b[43m_call_impl\u001b[49m\u001b[43m(\u001b[49m\u001b[43m*\u001b[49m\u001b[43margs\u001b[49m\u001b[43m,\u001b[49m\u001b[43m \u001b[49m\u001b[43m*\u001b[49m\u001b[43m*\u001b[49m\u001b[43mkwargs\u001b[49m\u001b[43m)\u001b[49m\n",
      "\u001b[36mFile \u001b[39m\u001b[32m~/anaconda3/envs/vincent/lib/python3.12/site-packages/torch/nn/modules/module.py:1762\u001b[39m, in \u001b[36mModule._call_impl\u001b[39m\u001b[34m(self, *args, **kwargs)\u001b[39m\n\u001b[32m   1757\u001b[39m \u001b[38;5;66;03m# If we don't have any hooks, we want to skip the rest of the logic in\u001b[39;00m\n\u001b[32m   1758\u001b[39m \u001b[38;5;66;03m# this function, and just call forward.\u001b[39;00m\n\u001b[32m   1759\u001b[39m \u001b[38;5;28;01mif\u001b[39;00m \u001b[38;5;129;01mnot\u001b[39;00m (\u001b[38;5;28mself\u001b[39m._backward_hooks \u001b[38;5;129;01mor\u001b[39;00m \u001b[38;5;28mself\u001b[39m._backward_pre_hooks \u001b[38;5;129;01mor\u001b[39;00m \u001b[38;5;28mself\u001b[39m._forward_hooks \u001b[38;5;129;01mor\u001b[39;00m \u001b[38;5;28mself\u001b[39m._forward_pre_hooks\n\u001b[32m   1760\u001b[39m         \u001b[38;5;129;01mor\u001b[39;00m _global_backward_pre_hooks \u001b[38;5;129;01mor\u001b[39;00m _global_backward_hooks\n\u001b[32m   1761\u001b[39m         \u001b[38;5;129;01mor\u001b[39;00m _global_forward_hooks \u001b[38;5;129;01mor\u001b[39;00m _global_forward_pre_hooks):\n\u001b[32m-> \u001b[39m\u001b[32m1762\u001b[39m     \u001b[38;5;28;01mreturn\u001b[39;00m \u001b[43mforward_call\u001b[49m\u001b[43m(\u001b[49m\u001b[43m*\u001b[49m\u001b[43margs\u001b[49m\u001b[43m,\u001b[49m\u001b[43m \u001b[49m\u001b[43m*\u001b[49m\u001b[43m*\u001b[49m\u001b[43mkwargs\u001b[49m\u001b[43m)\u001b[49m\n\u001b[32m   1764\u001b[39m result = \u001b[38;5;28;01mNone\u001b[39;00m\n\u001b[32m   1765\u001b[39m called_always_called_hooks = \u001b[38;5;28mset\u001b[39m()\n",
      "\u001b[36mFile \u001b[39m\u001b[32m~/vincent/DeepXDE_test/Gitlab_proj/PINN_custom/src/models/model.py:174\u001b[39m, in \u001b[36mPirateNet.forward\u001b[39m\u001b[34m(self, x)\u001b[39m\n\u001b[32m    172\u001b[39m \u001b[38;5;28;01mfor\u001b[39;00m layer_num \u001b[38;5;129;01min\u001b[39;00m \u001b[38;5;28mrange\u001b[39m(n):\n\u001b[32m    173\u001b[39m     passed = \u001b[38;5;28mself\u001b[39m.layers1[layer_num](x)\n\u001b[32m--> \u001b[39m\u001b[32m174\u001b[39m     passed = \u001b[43m(\u001b[49m\u001b[32;43m1\u001b[39;49m\u001b[43m-\u001b[49m\u001b[43mpassed\u001b[49m\u001b[43m)\u001b[49m\u001b[43m*\u001b[49m\u001b[43mU\u001b[49m + passed*V\n\u001b[32m    175\u001b[39m     passed = \u001b[38;5;28mself\u001b[39m.layers2[layer_num](passed)\n\u001b[32m    176\u001b[39m     x = (\u001b[32m1\u001b[39m-\u001b[38;5;28mself\u001b[39m.alphas[layer_num]) * x + \u001b[38;5;28mself\u001b[39m.alphas[layer_num] * passed\n",
      "\u001b[31mOutOfMemoryError\u001b[39m: CUDA out of memory. Tried to allocate 602.00 MiB. GPU 0 has a total capacity of 23.54 GiB of which 45.12 MiB is free. Process 3869604 has 10.97 GiB memory in use. Including non-PyTorch memory, this process has 12.46 GiB memory in use. Of the allocated memory 11.72 GiB is allocated by PyTorch, and 305.72 MiB is reserved by PyTorch but unallocated. If reserved but unallocated memory is large try setting PYTORCH_CUDA_ALLOC_CONF=expandable_segments:True to avoid fragmentation.  See documentation for Memory Management  (https://pytorch.org/docs/stable/notes/cuda.html#environment-variables)"
     ]
    }
   ],
   "source": [
    "pred_all = PINN(x_time.to(device))\n",
    "mse = nn.MSELoss()\n",
    "loss = mse(pred_all, y_time.to(device))\n",
    "print(\"MSE Loss: \", loss.item())"
   ]
  },
  {
   "cell_type": "code",
   "execution_count": null,
   "id": "d26f4c4d",
   "metadata": {},
   "outputs": [],
   "source": [
    "x_min, x_max = 0., 4.\n",
    "y_min, y_max = 0., 2.\n",
    "x_ax = np.linspace(x_min, x_max, 100)  # Spatial grid (x)\n",
    "y_ax = np.linspace(y_min, y_max, 100)  # Spatial grid (y)\n",
    "t = np.linspace(0, 100, 100)   # Time grid\n",
    "\n",
    "# Create meshgrid for plotting\n",
    "X, Y = np.meshgrid(x_ax, y_ax)"
   ]
  },
  {
   "cell_type": "code",
   "execution_count": null,
   "id": "cc55b2a5",
   "metadata": {},
   "outputs": [],
   "source": [
    "sampled_z = np.unique(x[:, 3])\n",
    "sampled_z = sampled_z[0]"
   ]
  },
  {
   "cell_type": "code",
   "execution_count": null,
   "id": "c1b734c7",
   "metadata": {},
   "outputs": [],
   "source": [
    "plot_tools.plot_speed_map(\n",
    "        model=PINN,\n",
    "        X=X,\n",
    "        Y=Y,\n",
    "        t=t,\n",
    "        save_dir=\"\",\n",
    "        device=device,\n",
    "        non_dim=True,\n",
    "        forward_transform_input=forward_transform_input,\n",
    "        inverse_transform_output=inverse_transform_output,\n",
    "        additional_name=\"_intermediate_model\",\n",
    "        sample_z=sampled_z,\n",
    "    )"
   ]
  }
 ],
 "metadata": {
  "kernelspec": {
   "display_name": "vincent",
   "language": "python",
   "name": "python3"
  },
  "language_info": {
   "codemirror_mode": {
    "name": "ipython",
    "version": 3
   },
   "file_extension": ".py",
   "mimetype": "text/x-python",
   "name": "python",
   "nbconvert_exporter": "python",
   "pygments_lexer": "ipython3",
   "version": "3.12.5"
  }
 },
 "nbformat": 4,
 "nbformat_minor": 5
}
