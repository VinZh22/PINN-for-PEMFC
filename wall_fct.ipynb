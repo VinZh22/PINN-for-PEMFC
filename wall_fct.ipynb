{
 "cells": [
  {
   "cell_type": "code",
   "execution_count": null,
   "id": "e02b5c0d",
   "metadata": {},
   "outputs": [],
   "source": [
    "import pandas as pd\n",
    "import torch\n",
    "import matplotlib.pyplot as plt\n",
    "import torch.nn as nn\n",
    "import numpy as np"
   ]
  },
  {
   "cell_type": "code",
   "execution_count": null,
   "id": "f2a9970b",
   "metadata": {},
   "outputs": [],
   "source": [
    "from src.models import model"
   ]
  },
  {
   "cell_type": "code",
   "execution_count": null,
   "id": "d64189b7",
   "metadata": {},
   "outputs": [],
   "source": [
    "device = \"cuda\""
   ]
  },
  {
   "cell_type": "code",
   "execution_count": null,
   "id": "30555e96",
   "metadata": {},
   "outputs": [],
   "source": [
    "PINN = model.PINN_import(\"./results/2025-05-22_11-59-35/model_intermediate_model.pth\", input_len=256, output_len=3, RFF = True, device = device)"
   ]
  },
  {
   "cell_type": "code",
   "execution_count": null,
   "id": "3dc2aa10",
   "metadata": {},
   "outputs": [],
   "source": [
    "datafile = \"./data/cylinder.csv\""
   ]
  },
  {
   "cell_type": "code",
   "execution_count": null,
   "id": "8f35a972",
   "metadata": {},
   "outputs": [],
   "source": [
    "df = pd.read_csv(datafile)"
   ]
  },
  {
   "cell_type": "code",
   "execution_count": null,
   "id": "c62de381",
   "metadata": {},
   "outputs": [],
   "source": [
    "horizon = df.loc[np.abs(df[\"Points:0\"])<0.05].reset_index()\n",
    "horizon = horizon[horizon[\"Points:2\"]==0.5]"
   ]
  },
  {
   "cell_type": "code",
   "execution_count": null,
   "id": "b48448f4",
   "metadata": {},
   "outputs": [],
   "source": [
    "time = np.random.randint(1, 149)"
   ]
  },
  {
   "cell_type": "code",
   "execution_count": null,
   "id": "3d30c025",
   "metadata": {},
   "outputs": [],
   "source": [
    "horizon = horizon[horizon[\"Time\"]==time]"
   ]
  },
  {
   "cell_type": "code",
   "execution_count": null,
   "id": "f2527fa9",
   "metadata": {},
   "outputs": [],
   "source": [
    "horizon = horizon[horizon[\"Points:1\"]>0.]"
   ]
  },
  {
   "cell_type": "code",
   "execution_count": null,
   "id": "369adba8",
   "metadata": {},
   "outputs": [],
   "source": [
    "horizon = horizon[horizon[\"Points:1\"]<2.]"
   ]
  },
  {
   "cell_type": "code",
   "execution_count": null,
   "id": "900597f9",
   "metadata": {},
   "outputs": [],
   "source": [
    "horizon.info()"
   ]
  },
  {
   "cell_type": "code",
   "execution_count": null,
   "id": "e4130ecb",
   "metadata": {},
   "outputs": [],
   "source": [
    "y_axis = horizon[\"Points:1\"].values\n",
    "u_x = horizon[\"U:0\"].values\n",
    "x_axis = horizon[\"Points:0\"].values\n",
    "abs_x_axis = np.abs(x_axis)"
   ]
  },
  {
   "cell_type": "code",
   "execution_count": null,
   "id": "4f87e7be",
   "metadata": {},
   "outputs": [],
   "source": [
    "plt.scatter(u_x, y_axis, c = abs_x_axis, cmap='viridis', label=\"U:0\")\n",
    "plt.xlabel(\"U_x\")\n",
    "plt.ylabel(\"Y-axis\")\n",
    "plt.title(\"U:1 at Time = {}\".format(time))\n",
    "plt.legend()\n",
    "plt.colorbar(label=\"X-axis\")\n",
    "plt.show()"
   ]
  },
  {
   "cell_type": "code",
   "execution_count": null,
   "id": "8675ae11",
   "metadata": {},
   "outputs": [],
   "source": [
    "Y_range = torch.linspace(-1.5, 1.5, 100)\n",
    "## give me a tensor of (0., Y_range, time) knowing that Y_range is a tensor of shape (100,)\n",
    "X_axis = torch.zeros((Y_range.shape[0]))\n",
    "time_axis = time * torch.ones((Y_range.shape[0]))\n",
    "\n",
    "input_tensor = torch.stack((X_axis, Y_range, time_axis), dim=1)\n",
    "input_tensor = input_tensor.to(device)"
   ]
  },
  {
   "cell_type": "code",
   "execution_count": null,
   "id": "e6f070fe",
   "metadata": {},
   "outputs": [],
   "source": []
  },
  {
   "cell_type": "code",
   "execution_count": null,
   "id": "68c40f6c",
   "metadata": {},
   "outputs": [],
   "source": [
    "PINN = PINN.to(device)"
   ]
  },
  {
   "cell_type": "code",
   "execution_count": null,
   "id": "e06e7d6b",
   "metadata": {},
   "outputs": [],
   "source": [
    "U_x_pred = PINN(input_tensor)"
   ]
  },
  {
   "cell_type": "code",
   "execution_count": null,
   "id": "882b2633",
   "metadata": {},
   "outputs": [],
   "source": [
    "y_axis = input_tensor[:, 1].cpu().detach().numpy()\n",
    "u_x_axis = U_x_pred[:, 0].cpu().detach().numpy()"
   ]
  },
  {
   "cell_type": "code",
   "execution_count": null,
   "id": "3f0e0d62",
   "metadata": {},
   "outputs": [],
   "source": [
    "plt.scatter(u_x_axis, y_axis,)\n",
    "plt.xlabel(\"U_x\")\n",
    "plt.ylabel(\"Y-axis\")\n",
    "plt.title(\"U:1 at Time = {}\".format(time))\n",
    "plt.legend()\n",
    "plt.show()"
   ]
  },
  {
   "cell_type": "code",
   "execution_count": null,
   "id": "75b56ee5",
   "metadata": {},
   "outputs": [],
   "source": []
  }
 ],
 "metadata": {
  "kernelspec": {
   "display_name": "vincent",
   "language": "python",
   "name": "python3"
  },
  "language_info": {
   "codemirror_mode": {
    "name": "ipython",
    "version": 3
   },
   "file_extension": ".py",
   "mimetype": "text/x-python",
   "name": "python",
   "nbconvert_exporter": "python",
   "pygments_lexer": "ipython3",
   "version": "3.12.5"
  }
 },
 "nbformat": 4,
 "nbformat_minor": 5
}
