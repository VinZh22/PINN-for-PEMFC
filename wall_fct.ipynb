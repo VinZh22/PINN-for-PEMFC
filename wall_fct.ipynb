{
 "cells": [
  {
   "cell_type": "code",
   "execution_count": 1,
   "id": "e02b5c0d",
   "metadata": {},
   "outputs": [],
   "source": [
    "import pandas as pd\n",
    "import torch\n",
    "import matplotlib.pyplot as plt\n",
    "import torch.nn as nn\n",
    "import numpy as np"
   ]
  },
  {
   "cell_type": "code",
   "execution_count": 2,
   "id": "f2a9970b",
   "metadata": {},
   "outputs": [],
   "source": [
    "from src.models import model"
   ]
  },
  {
   "cell_type": "code",
   "execution_count": 3,
   "id": "d64189b7",
   "metadata": {},
   "outputs": [],
   "source": [
    "device = \"cuda\""
   ]
  },
  {
   "cell_type": "code",
   "execution_count": 4,
   "id": "30555e96",
   "metadata": {},
   "outputs": [],
   "source": [
    "PINN = model.PINN_import(\"./results/2025-06-20_12-10-40/model_intermediate_model.pth\", input_len=256, output_len=4, data_input=4, RFF = True, device = device)"
   ]
  },
  {
   "cell_type": "code",
   "execution_count": 5,
   "id": "3dc2aa10",
   "metadata": {},
   "outputs": [],
   "source": [
    "datafile = \"./data/periodic_data_cleaned.csv\""
   ]
  },
  {
   "cell_type": "code",
   "execution_count": 6,
   "id": "8f35a972",
   "metadata": {},
   "outputs": [],
   "source": [
    "df = pd.read_csv(datafile)"
   ]
  },
  {
   "cell_type": "code",
   "execution_count": 7,
   "id": "9c34613f",
   "metadata": {},
   "outputs": [
    {
     "data": {
      "text/html": [
       "<div>\n",
       "<style scoped>\n",
       "    .dataframe tbody tr th:only-of-type {\n",
       "        vertical-align: middle;\n",
       "    }\n",
       "\n",
       "    .dataframe tbody tr th {\n",
       "        vertical-align: top;\n",
       "    }\n",
       "\n",
       "    .dataframe thead th {\n",
       "        text-align: right;\n",
       "    }\n",
       "</style>\n",
       "<table border=\"1\" class=\"dataframe\">\n",
       "  <thead>\n",
       "    <tr style=\"text-align: right;\">\n",
       "      <th></th>\n",
       "      <th>Time</th>\n",
       "      <th>point_id</th>\n",
       "      <th>Points:0</th>\n",
       "      <th>Points:1</th>\n",
       "      <th>Points:2</th>\n",
       "      <th>p</th>\n",
       "      <th>U:0</th>\n",
       "      <th>U:1</th>\n",
       "      <th>U:2</th>\n",
       "    </tr>\n",
       "  </thead>\n",
       "  <tbody>\n",
       "    <tr>\n",
       "      <th>count</th>\n",
       "      <td>7.704929e+07</td>\n",
       "      <td>7.704929e+07</td>\n",
       "      <td>7.704929e+07</td>\n",
       "      <td>7.704929e+07</td>\n",
       "      <td>7.704929e+07</td>\n",
       "      <td>7.704929e+07</td>\n",
       "      <td>7.704929e+07</td>\n",
       "      <td>7.704929e+07</td>\n",
       "      <td>7.704929e+07</td>\n",
       "    </tr>\n",
       "    <tr>\n",
       "      <th>mean</th>\n",
       "      <td>2.500000e+03</td>\n",
       "      <td>7.689500e+04</td>\n",
       "      <td>2.000000e+00</td>\n",
       "      <td>1.000000e+00</td>\n",
       "      <td>1.000000e+00</td>\n",
       "      <td>1.590331e-05</td>\n",
       "      <td>3.081454e-01</td>\n",
       "      <td>-6.297386e-06</td>\n",
       "      <td>-1.241456e-04</td>\n",
       "    </tr>\n",
       "    <tr>\n",
       "      <th>std</th>\n",
       "      <td>1.446260e+03</td>\n",
       "      <td>4.439564e+04</td>\n",
       "      <td>1.183216e+00</td>\n",
       "      <td>7.831043e-01</td>\n",
       "      <td>5.962848e-01</td>\n",
       "      <td>6.356747e-04</td>\n",
       "      <td>1.443003e-01</td>\n",
       "      <td>6.359226e-03</td>\n",
       "      <td>1.031086e-02</td>\n",
       "    </tr>\n",
       "    <tr>\n",
       "      <th>min</th>\n",
       "      <td>0.000000e+00</td>\n",
       "      <td>0.000000e+00</td>\n",
       "      <td>0.000000e+00</td>\n",
       "      <td>0.000000e+00</td>\n",
       "      <td>0.000000e+00</td>\n",
       "      <td>-8.385121e-03</td>\n",
       "      <td>-8.813336e-03</td>\n",
       "      <td>-1.204620e-01</td>\n",
       "      <td>-1.552387e-01</td>\n",
       "    </tr>\n",
       "    <tr>\n",
       "      <th>25%</th>\n",
       "      <td>1.250000e+03</td>\n",
       "      <td>3.844700e+04</td>\n",
       "      <td>1.000000e+00</td>\n",
       "      <td>1.629123e-01</td>\n",
       "      <td>4.666667e-01</td>\n",
       "      <td>-9.548649e-05</td>\n",
       "      <td>2.039667e-01</td>\n",
       "      <td>-6.542691e-04</td>\n",
       "      <td>-1.708895e-03</td>\n",
       "    </tr>\n",
       "    <tr>\n",
       "      <th>50%</th>\n",
       "      <td>2.500000e+03</td>\n",
       "      <td>7.689500e+04</td>\n",
       "      <td>2.000000e+00</td>\n",
       "      <td>1.000000e+00</td>\n",
       "      <td>1.000000e+00</td>\n",
       "      <td>-1.415304e-09</td>\n",
       "      <td>3.637780e-01</td>\n",
       "      <td>0.000000e+00</td>\n",
       "      <td>0.000000e+00</td>\n",
       "    </tr>\n",
       "    <tr>\n",
       "      <th>75%</th>\n",
       "      <td>3.750000e+03</td>\n",
       "      <td>1.153430e+05</td>\n",
       "      <td>3.000000e+00</td>\n",
       "      <td>1.837088e+00</td>\n",
       "      <td>1.533333e+00</td>\n",
       "      <td>1.319332e-04</td>\n",
       "      <td>4.216372e-01</td>\n",
       "      <td>6.422824e-04</td>\n",
       "      <td>1.228451e-03</td>\n",
       "    </tr>\n",
       "    <tr>\n",
       "      <th>max</th>\n",
       "      <td>5.000000e+03</td>\n",
       "      <td>1.537900e+05</td>\n",
       "      <td>4.000000e+00</td>\n",
       "      <td>2.000000e+00</td>\n",
       "      <td>2.000000e+00</td>\n",
       "      <td>1.199402e-02</td>\n",
       "      <td>5.526472e-01</td>\n",
       "      <td>1.126035e-01</td>\n",
       "      <td>1.541705e-01</td>\n",
       "    </tr>\n",
       "  </tbody>\n",
       "</table>\n",
       "</div>"
      ],
      "text/plain": [
       "               Time      point_id      Points:0      Points:1      Points:2  \\\n",
       "count  7.704929e+07  7.704929e+07  7.704929e+07  7.704929e+07  7.704929e+07   \n",
       "mean   2.500000e+03  7.689500e+04  2.000000e+00  1.000000e+00  1.000000e+00   \n",
       "std    1.446260e+03  4.439564e+04  1.183216e+00  7.831043e-01  5.962848e-01   \n",
       "min    0.000000e+00  0.000000e+00  0.000000e+00  0.000000e+00  0.000000e+00   \n",
       "25%    1.250000e+03  3.844700e+04  1.000000e+00  1.629123e-01  4.666667e-01   \n",
       "50%    2.500000e+03  7.689500e+04  2.000000e+00  1.000000e+00  1.000000e+00   \n",
       "75%    3.750000e+03  1.153430e+05  3.000000e+00  1.837088e+00  1.533333e+00   \n",
       "max    5.000000e+03  1.537900e+05  4.000000e+00  2.000000e+00  2.000000e+00   \n",
       "\n",
       "                  p           U:0           U:1           U:2  \n",
       "count  7.704929e+07  7.704929e+07  7.704929e+07  7.704929e+07  \n",
       "mean   1.590331e-05  3.081454e-01 -6.297386e-06 -1.241456e-04  \n",
       "std    6.356747e-04  1.443003e-01  6.359226e-03  1.031086e-02  \n",
       "min   -8.385121e-03 -8.813336e-03 -1.204620e-01 -1.552387e-01  \n",
       "25%   -9.548649e-05  2.039667e-01 -6.542691e-04 -1.708895e-03  \n",
       "50%   -1.415304e-09  3.637780e-01  0.000000e+00  0.000000e+00  \n",
       "75%    1.319332e-04  4.216372e-01  6.422824e-04  1.228451e-03  \n",
       "max    1.199402e-02  5.526472e-01  1.126035e-01  1.541705e-01  "
      ]
     },
     "execution_count": 7,
     "metadata": {},
     "output_type": "execute_result"
    }
   ],
   "source": [
    "df.describe()"
   ]
  },
  {
   "cell_type": "code",
   "execution_count": 79,
   "id": "c62de381",
   "metadata": {},
   "outputs": [],
   "source": [
    "horizon = df.loc[np.abs(df[\"Points:0\"])==0.].reset_index()\n",
    "horizon = horizon[horizon[\"Points:2\"]==0.]"
   ]
  },
  {
   "cell_type": "code",
   "execution_count": 80,
   "id": "b48448f4",
   "metadata": {},
   "outputs": [],
   "source": [
    "time = np.random.randint(1, 150)\n",
    "time = 196"
   ]
  },
  {
   "cell_type": "code",
   "execution_count": 81,
   "id": "3d30c025",
   "metadata": {},
   "outputs": [],
   "source": [
    "horizon = horizon[horizon[\"Time\"]==time*10]"
   ]
  },
  {
   "cell_type": "code",
   "execution_count": 82,
   "id": "369adba8",
   "metadata": {},
   "outputs": [],
   "source": [
    "horizon = horizon[horizon[\"Points:1\"]>1.5]"
   ]
  },
  {
   "cell_type": "code",
   "execution_count": 83,
   "id": "900597f9",
   "metadata": {},
   "outputs": [
    {
     "name": "stdout",
     "output_type": "stream",
     "text": [
      "<class 'pandas.core.frame.DataFrame'>\n",
      "Index: 48 entries, 407011 to 407058\n",
      "Data columns (total 10 columns):\n",
      " #   Column    Non-Null Count  Dtype  \n",
      "---  ------    --------------  -----  \n",
      " 0   index     48 non-null     int64  \n",
      " 1   Time      48 non-null     float64\n",
      " 2   point_id  48 non-null     int64  \n",
      " 3   Points:0  48 non-null     float64\n",
      " 4   Points:1  48 non-null     float64\n",
      " 5   Points:2  48 non-null     float64\n",
      " 6   p         48 non-null     float64\n",
      " 7   U:0       48 non-null     float64\n",
      " 8   U:1       48 non-null     float64\n",
      " 9   U:2       48 non-null     float64\n",
      "dtypes: float64(8), int64(2)\n",
      "memory usage: 4.1 KB\n"
     ]
    }
   ],
   "source": [
    "horizon.info()"
   ]
  },
  {
   "cell_type": "code",
   "execution_count": 84,
   "id": "e4130ecb",
   "metadata": {},
   "outputs": [],
   "source": [
    "y_axis = horizon[\"Points:1\"].values\n",
    "u_x = horizon[\"U:0\"].values\n",
    "x_axis = horizon[\"Points:0\"].values\n",
    "abs_x_axis = np.abs(x_axis)"
   ]
  },
  {
   "cell_type": "code",
   "execution_count": 85,
   "id": "4f87e7be",
   "metadata": {},
   "outputs": [
    {
     "data": {
      "image/png": "[encoded data removed]",
      "text/plain": [
       "<Figure size 640x480 with 2 Axes>"
      ]
     },
     "metadata": {},
     "output_type": "display_data"
    }
   ],
   "source": [
    "plt.scatter(u_x, y_axis, label=\"U:0\")\n",
    "plt.xlabel(\"U_x\")\n",
    "plt.ylabel(\"Y-axis\")\n",
    "plt.title(\"U:1 at Time = {}\".format(time))\n",
    "plt.legend()\n",
    "plt.colorbar(label=\"X-axis\")\n",
    "plt.show()"
   ]
  },
  {
   "cell_type": "code",
   "execution_count": 86,
   "id": "61816a8b",
   "metadata": {},
   "outputs": [],
   "source": [
    "import src.tools.util_func as util_func"
   ]
  },
  {
   "cell_type": "code",
   "execution_count": 87,
   "id": "9f0c193b",
   "metadata": {},
   "outputs": [
    {
     "name": "stdout",
     "output_type": "stream",
     "text": [
      "Using dynamic pressure for non-dimensionalization.\n",
      "Non-dimensionalization parameters:\n",
      "Length scale (L): 1.4981540441513062\n",
      "Velocity scale (U_hat): 0.2762989103794098\n",
      "Time scale (T_hat): 5.422222137451172\n",
      "Pressure scale (p_hat): 0.07634108787684912\n",
      "Reynolds number (Re): 20696.917176246643\n"
     ]
    }
   ],
   "source": [
    "forward_transform_input, forward_transform_output, inverse_transform_input, inverse_transform_output, Re = util_func.get_ND_non_dim(datafile, df, 2e-5)"
   ]
  },
  {
   "cell_type": "code",
   "execution_count": 95,
   "id": "8675ae11",
   "metadata": {},
   "outputs": [],
   "source": [
    "Y_range = torch.linspace(1.5, 2., 100)\n",
    "## give me a tensor of (0., Y_range, time) knowing that Y_range is a tensor of shape (100,)\n",
    "X_axis = 0. * torch.ones((Y_range.shape[0]))\n",
    "Z_axis = 0. * torch.ones((Y_range.shape[0]))\n",
    "time_axis = time * 10  * torch.ones((Y_range.shape[0]))\n",
    "\n",
    "input_tensor = torch.stack((time_axis, X_axis, Y_range, Z_axis), dim=1)\n",
    "input_tensor_np = input_tensor.numpy()\n",
    "input_tensor_np = forward_transform_input(input_tensor)\n",
    "input_tensor = torch.tensor(input_tensor_np, dtype=torch.float32)\n",
    "input_tensor = input_tensor.to(device)"
   ]
  },
  {
   "cell_type": "code",
   "execution_count": 96,
   "id": "68c40f6c",
   "metadata": {},
   "outputs": [],
   "source": [
    "PINN = PINN.to(device)"
   ]
  },
  {
   "cell_type": "code",
   "execution_count": 97,
   "id": "e06e7d6b",
   "metadata": {},
   "outputs": [],
   "source": [
    "U_x_pred = PINN(input_tensor)"
   ]
  },
  {
   "cell_type": "code",
   "execution_count": 98,
   "id": "1592569a",
   "metadata": {},
   "outputs": [
    {
     "data": {
      "text/plain": [
       "array([[1.9600000e+03, 0.0000000e+00, 1.5000000e+00, 0.0000000e+00],\n",
       "       [1.9600000e+03, 0.0000000e+00, 1.5050505e+00, 0.0000000e+00],\n",
       "       [1.9600000e+03, 0.0000000e+00, 1.5101010e+00, 0.0000000e+00],\n",
       "       [1.9600000e+03, 0.0000000e+00, 1.5151515e+00, 0.0000000e+00],\n",
       "       [1.9600000e+03, 0.0000000e+00, 1.5202020e+00, 0.0000000e+00],\n",
       "       [1.9600000e+03, 0.0000000e+00, 1.5252526e+00, 0.0000000e+00],\n",
       "       [1.9600000e+03, 0.0000000e+00, 1.5303030e+00, 0.0000000e+00],\n",
       "       [1.9600000e+03, 0.0000000e+00, 1.5353535e+00, 0.0000000e+00],\n",
       "       [1.9600000e+03, 0.0000000e+00, 1.5404041e+00, 0.0000000e+00],\n",
       "       [1.9600000e+03, 0.0000000e+00, 1.5454545e+00, 0.0000000e+00],\n",
       "       [1.9600000e+03, 0.0000000e+00, 1.5505050e+00, 0.0000000e+00],\n",
       "       [1.9600000e+03, 0.0000000e+00, 1.5555556e+00, 0.0000000e+00],\n",
       "       [1.9600000e+03, 0.0000000e+00, 1.5606060e+00, 0.0000000e+00],\n",
       "       [1.9600000e+03, 0.0000000e+00, 1.5656565e+00, 0.0000000e+00],\n",
       "       [1.9600000e+03, 0.0000000e+00, 1.5707071e+00, 0.0000000e+00],\n",
       "       [1.9600000e+03, 0.0000000e+00, 1.5757576e+00, 0.0000000e+00],\n",
       "       [1.9600000e+03, 0.0000000e+00, 1.5808080e+00, 0.0000000e+00],\n",
       "       [1.9600000e+03, 0.0000000e+00, 1.5858586e+00, 0.0000000e+00],\n",
       "       [1.9600000e+03, 0.0000000e+00, 1.5909091e+00, 0.0000000e+00],\n",
       "       [1.9600000e+03, 0.0000000e+00, 1.5959595e+00, 0.0000000e+00],\n",
       "       [1.9600000e+03, 0.0000000e+00, 1.6010101e+00, 0.0000000e+00],\n",
       "       [1.9600000e+03, 0.0000000e+00, 1.6060606e+00, 0.0000000e+00],\n",
       "       [1.9600000e+03, 0.0000000e+00, 1.6111112e+00, 0.0000000e+00],\n",
       "       [1.9600000e+03, 0.0000000e+00, 1.6161616e+00, 0.0000000e+00],\n",
       "       [1.9600000e+03, 0.0000000e+00, 1.6212121e+00, 0.0000000e+00],\n",
       "       [1.9600000e+03, 0.0000000e+00, 1.6262627e+00, 0.0000000e+00],\n",
       "       [1.9600000e+03, 0.0000000e+00, 1.6313131e+00, 0.0000000e+00],\n",
       "       [1.9600000e+03, 0.0000000e+00, 1.6363636e+00, 0.0000000e+00],\n",
       "       [1.9600000e+03, 0.0000000e+00, 1.6414142e+00, 0.0000000e+00],\n",
       "       [1.9600000e+03, 0.0000000e+00, 1.6464647e+00, 0.0000000e+00],\n",
       "       [1.9600000e+03, 0.0000000e+00, 1.6515151e+00, 0.0000000e+00],\n",
       "       [1.9600000e+03, 0.0000000e+00, 1.6565657e+00, 0.0000000e+00],\n",
       "       [1.9600000e+03, 0.0000000e+00, 1.6616162e+00, 0.0000000e+00],\n",
       "       [1.9600000e+03, 0.0000000e+00, 1.6666666e+00, 0.0000000e+00],\n",
       "       [1.9600000e+03, 0.0000000e+00, 1.6717172e+00, 0.0000000e+00],\n",
       "       [1.9600000e+03, 0.0000000e+00, 1.6767677e+00, 0.0000000e+00],\n",
       "       [1.9600000e+03, 0.0000000e+00, 1.6818181e+00, 0.0000000e+00],\n",
       "       [1.9600000e+03, 0.0000000e+00, 1.6868687e+00, 0.0000000e+00],\n",
       "       [1.9600000e+03, 0.0000000e+00, 1.6919192e+00, 0.0000000e+00],\n",
       "       [1.9600000e+03, 0.0000000e+00, 1.6969697e+00, 0.0000000e+00],\n",
       "       [1.9600000e+03, 0.0000000e+00, 1.7020202e+00, 0.0000000e+00],\n",
       "       [1.9600000e+03, 0.0000000e+00, 1.7070707e+00, 0.0000000e+00],\n",
       "       [1.9600000e+03, 0.0000000e+00, 1.7121212e+00, 0.0000000e+00],\n",
       "       [1.9600000e+03, 0.0000000e+00, 1.7171717e+00, 0.0000000e+00],\n",
       "       [1.9600000e+03, 0.0000000e+00, 1.7222222e+00, 0.0000000e+00],\n",
       "       [1.9600000e+03, 0.0000000e+00, 1.7272727e+00, 0.0000000e+00],\n",
       "       [1.9600000e+03, 0.0000000e+00, 1.7323233e+00, 0.0000000e+00],\n",
       "       [1.9600000e+03, 0.0000000e+00, 1.7373737e+00, 0.0000000e+00],\n",
       "       [1.9600000e+03, 0.0000000e+00, 1.7424242e+00, 0.0000000e+00],\n",
       "       [1.9600000e+03, 0.0000000e+00, 1.7474747e+00, 0.0000000e+00],\n",
       "       [1.9600000e+03, 0.0000000e+00, 1.7525252e+00, 0.0000000e+00],\n",
       "       [1.9600000e+03, 0.0000000e+00, 1.7575758e+00, 0.0000000e+00],\n",
       "       [1.9600000e+03, 0.0000000e+00, 1.7626263e+00, 0.0000000e+00],\n",
       "       [1.9600000e+03, 0.0000000e+00, 1.7676768e+00, 0.0000000e+00],\n",
       "       [1.9600000e+03, 0.0000000e+00, 1.7727273e+00, 0.0000000e+00],\n",
       "       [1.9600000e+03, 0.0000000e+00, 1.7777777e+00, 0.0000000e+00],\n",
       "       [1.9600000e+03, 0.0000000e+00, 1.7828283e+00, 0.0000000e+00],\n",
       "       [1.9600000e+03, 0.0000000e+00, 1.7878788e+00, 0.0000000e+00],\n",
       "       [1.9600000e+03, 0.0000000e+00, 1.7929293e+00, 0.0000000e+00],\n",
       "       [1.9600000e+03, 0.0000000e+00, 1.7979798e+00, 0.0000000e+00],\n",
       "       [1.9600000e+03, 0.0000000e+00, 1.8030303e+00, 0.0000000e+00],\n",
       "       [1.9600000e+03, 0.0000000e+00, 1.8080807e+00, 0.0000000e+00],\n",
       "       [1.9600000e+03, 0.0000000e+00, 1.8131313e+00, 0.0000000e+00],\n",
       "       [1.9600000e+03, 0.0000000e+00, 1.8181819e+00, 0.0000000e+00],\n",
       "       [1.9600000e+03, 0.0000000e+00, 1.8232323e+00, 0.0000000e+00],\n",
       "       [1.9600000e+03, 0.0000000e+00, 1.8282828e+00, 0.0000000e+00],\n",
       "       [1.9600000e+03, 0.0000000e+00, 1.8333334e+00, 0.0000000e+00],\n",
       "       [1.9600000e+03, 0.0000000e+00, 1.8383838e+00, 0.0000000e+00],\n",
       "       [1.9600000e+03, 0.0000000e+00, 1.8434343e+00, 0.0000000e+00],\n",
       "       [1.9600000e+03, 0.0000000e+00, 1.8484849e+00, 0.0000000e+00],\n",
       "       [1.9600000e+03, 0.0000000e+00, 1.8535353e+00, 0.0000000e+00],\n",
       "       [1.9600000e+03, 0.0000000e+00, 1.8585858e+00, 0.0000000e+00],\n",
       "       [1.9600000e+03, 0.0000000e+00, 1.8636365e+00, 0.0000000e+00],\n",
       "       [1.9600000e+03, 0.0000000e+00, 1.8686869e+00, 0.0000000e+00],\n",
       "       [1.9600000e+03, 0.0000000e+00, 1.8737373e+00, 0.0000000e+00],\n",
       "       [1.9600000e+03, 0.0000000e+00, 1.8787879e+00, 0.0000000e+00],\n",
       "       [1.9600000e+03, 0.0000000e+00, 1.8838384e+00, 0.0000000e+00],\n",
       "       [1.9600000e+03, 0.0000000e+00, 1.8888888e+00, 0.0000000e+00],\n",
       "       [1.9600000e+03, 0.0000000e+00, 1.8939395e+00, 0.0000000e+00],\n",
       "       [1.9600000e+03, 0.0000000e+00, 1.8989899e+00, 0.0000000e+00],\n",
       "       [1.9600000e+03, 0.0000000e+00, 1.9040403e+00, 0.0000000e+00],\n",
       "       [1.9600000e+03, 0.0000000e+00, 1.9090909e+00, 0.0000000e+00],\n",
       "       [1.9600000e+03, 0.0000000e+00, 1.9141414e+00, 0.0000000e+00],\n",
       "       [1.9600000e+03, 0.0000000e+00, 1.9191920e+00, 0.0000000e+00],\n",
       "       [1.9600000e+03, 0.0000000e+00, 1.9242425e+00, 0.0000000e+00],\n",
       "       [1.9600000e+03, 0.0000000e+00, 1.9292929e+00, 0.0000000e+00],\n",
       "       [1.9600000e+03, 0.0000000e+00, 1.9343433e+00, 0.0000000e+00],\n",
       "       [1.9600000e+03, 0.0000000e+00, 1.9393940e+00, 0.0000000e+00],\n",
       "       [1.9600000e+03, 0.0000000e+00, 1.9444444e+00, 0.0000000e+00],\n",
       "       [1.9600000e+03, 0.0000000e+00, 1.9494950e+00, 0.0000000e+00],\n",
       "       [1.9600000e+03, 0.0000000e+00, 1.9545455e+00, 0.0000000e+00],\n",
       "       [1.9600000e+03, 0.0000000e+00, 1.9595959e+00, 0.0000000e+00],\n",
       "       [1.9600000e+03, 0.0000000e+00, 1.9646463e+00, 0.0000000e+00],\n",
       "       [1.9600000e+03, 0.0000000e+00, 1.9696970e+00, 0.0000000e+00],\n",
       "       [1.9600000e+03, 0.0000000e+00, 1.9747474e+00, 0.0000000e+00],\n",
       "       [1.9600000e+03, 0.0000000e+00, 1.9797980e+00, 0.0000000e+00],\n",
       "       [1.9600000e+03, 0.0000000e+00, 1.9848485e+00, 0.0000000e+00],\n",
       "       [1.9600000e+03, 0.0000000e+00, 1.9898990e+00, 0.0000000e+00],\n",
       "       [1.9600000e+03, 0.0000000e+00, 1.9949493e+00, 0.0000000e+00],\n",
       "       [1.9600000e+03, 0.0000000e+00, 2.0000000e+00, 0.0000000e+00]],\n",
       "      dtype=float32)"
      ]
     },
     "execution_count": 98,
     "metadata": {},
     "output_type": "execute_result"
    }
   ],
   "source": [
    "inverse_transform_input(input_tensor_np)"
   ]
  },
  {
   "cell_type": "code",
   "execution_count": 99,
   "id": "882b2633",
   "metadata": {},
   "outputs": [
    {
     "name": "stdout",
     "output_type": "stream",
     "text": [
      "[0.21560302 0.21538058 0.21515092 0.2149203  0.21468204 0.21443416\n",
      " 0.21418466 0.21392351 0.21365941 0.21338753 0.21310584 0.21282057\n",
      " 0.21252824 0.2122214  0.2119111  0.21159473 0.21126448 0.21092902\n",
      " 0.21058722 0.21022986 0.20986886 0.20949903 0.20911846 0.20872951\n",
      " 0.20833248 0.20792545 0.2075095  0.20708741 0.20665249 0.20620966\n",
      " 0.20575966 0.20529974 0.20483178 0.20435651 0.20387094 0.20337604\n",
      " 0.20287666 0.20236878 0.20184843 0.20132606 0.20079164 0.20025167\n",
      " 0.19970654 0.19915234 0.19859315 0.19802788 0.19745274 0.19687313\n",
      " 0.19629031 0.1956995  0.1951064  0.19450794 0.19390018 0.1932954\n",
      " 0.19268164 0.19206481 0.1914456  0.19082405 0.19019744 0.18957131\n",
      " 0.18894112 0.18830828 0.18767574 0.1870416  0.18640633 0.18577309\n",
      " 0.1851386  0.18450186 0.18386969 0.18323593 0.1826019  0.1819738\n",
      " 0.18134725 0.18071826 0.1800995  0.17947614 0.17886136 0.17824927\n",
      " 0.17764038 0.17703608 0.17643747 0.1758423  0.17525069 0.174668\n",
      " 0.17408739 0.1735141  0.17294849 0.17238745 0.17183304 0.17128398\n",
      " 0.17074628 0.17020787 0.16968404 0.16916603 0.16865034 0.16814858\n",
      " 0.16765316 0.16716145 0.16668394 0.16621278]\n"
     ]
    }
   ],
   "source": [
    "y_axis = inverse_transform_input(input_tensor_np)[:, 2]\n",
    "u_x_pred = inverse_transform_output(U_x_pred.cpu().detach().numpy())\n",
    "u_x_axis = u_x_pred[:, 0]\n",
    "print(u_x_axis)"
   ]
  },
  {
   "cell_type": "code",
   "execution_count": 100,
   "id": "3f0e0d62",
   "metadata": {},
   "outputs": [
    {
     "name": "stderr",
     "output_type": "stream",
     "text": [
      "/tmp/ipykernel_2431227/375499761.py:5: UserWarning: No artists with labels found to put in legend.  Note that artists whose label start with an underscore are ignored when legend() is called with no argument.\n",
      "  plt.legend()\n"
     ]
    },
    {
     "data": {
      "image/png": "[encoded data removed]",
      "text/plain": [
       "<Figure size 640x480 with 1 Axes>"
      ]
     },
     "metadata": {},
     "output_type": "display_data"
    }
   ],
   "source": [
    "plt.scatter(u_x_axis, Y_range,)\n",
    "plt.xlabel(\"U_x\")\n",
    "plt.ylabel(\"Y-axis\")\n",
    "plt.title(\"U:0 at Time = {}\".format(time))\n",
    "plt.legend()\n",
    "plt.show()"
   ]
  },
  {
   "cell_type": "code",
   "execution_count": 94,
   "id": "07093b29",
   "metadata": {},
   "outputs": [
    {
     "name": "stderr",
     "output_type": "stream",
     "text": [
      "/tmp/ipykernel_2431227/3330441034.py:6: UserWarning: No artists with labels found to put in legend.  Note that artists whose label start with an underscore are ignored when legend() is called with no argument.\n",
      "  plt.legend()\n"
     ]
    },
    {
     "data": {
      "image/png": "[encoded data removed]",
      "text/plain": [
       "<Figure size 640x480 with 1 Axes>"
      ]
     },
     "metadata": {},
     "output_type": "display_data"
    }
   ],
   "source": [
    "speed_pred = np.sqrt(np.sum(u_x_pred**2, axis=1))\n",
    "plt.scatter(speed_pred, Y_range)\n",
    "plt.xlabel(\"Speed\")\n",
    "plt.ylabel(\"Y-axis\")\n",
    "plt.title(\"Speed at Time = {}\".format(time))\n",
    "plt.legend()\n",
    "plt.show()"
   ]
  },
  {
   "cell_type": "code",
   "execution_count": 73,
   "id": "2e975b9d",
   "metadata": {},
   "outputs": [],
   "source": [
    "horizon_input = horizon[[\"Time\", \"Points:0\", \"Points:1\", \"Points:2\"]].values\n",
    "horizon_input = forward_transform_input(horizon_input)\n",
    "horizon_input = torch.tensor(horizon_input, dtype=torch.float32)\n",
    "horizon_input = horizon_input.to(device)\n",
    "\n",
    "horizon_output = horizon[[\"U:0\", \"U:1\", \"U:2\", \"p\"]].values\n",
    "horizon_output = forward_transform_output(horizon_output)\n",
    "horizon_output = torch.tensor(horizon_output, dtype=torch.float32)\n",
    "horizon_output = horizon_output.to(device)"
   ]
  },
  {
   "cell_type": "code",
   "execution_count": 74,
   "id": "6e7fa2d1",
   "metadata": {},
   "outputs": [],
   "source": [
    "pred_horizon_output = PINN(horizon_input)"
   ]
  },
  {
   "cell_type": "code",
   "execution_count": 76,
   "id": "c7801cb5",
   "metadata": {},
   "outputs": [
    {
     "data": {
      "text/plain": [
       "0.7522131204605103"
      ]
     },
     "execution_count": 76,
     "metadata": {},
     "output_type": "execute_result"
    }
   ],
   "source": [
    "nn.MSELoss()(pred_horizon_output, horizon_output).item()"
   ]
  },
  {
   "cell_type": "markdown",
   "id": "4c1df512",
   "metadata": {},
   "source": [
    "## Diagnonize"
   ]
  },
  {
   "cell_type": "code",
   "execution_count": 77,
   "id": "3e57e2be",
   "metadata": {},
   "outputs": [],
   "source": [
    "def get_horizon(time):\n",
    "    horizon = df.loc[np.abs(df[\"Points:0\"])==0.].reset_index()\n",
    "    horizon = horizon[horizon[\"Points:2\"]==0.]\n",
    "    horizon = horizon[horizon[\"Time\"]==time*10]\n",
    "    horizon = horizon[horizon[\"Points:1\"]>1.5]\n",
    "    return horizon"
   ]
  },
  {
   "cell_type": "code",
   "execution_count": 78,
   "id": "f3bf1500",
   "metadata": {},
   "outputs": [
    {
     "name": "stdout",
     "output_type": "stream",
     "text": [
      "Time: 1, MSE: 0.3719193935394287\n",
      "Time: 2, MSE: 0.06398036330938339\n",
      "Time: 3, MSE: 0.4518444538116455\n",
      "Time: 4, MSE: 0.5663386583328247\n",
      "Time: 5, MSE: 0.29521018266677856\n",
      "Time: 6, MSE: 0.8264047503471375\n",
      "Time: 7, MSE: 0.2096952497959137\n",
      "Time: 8, MSE: 0.8154109716415405\n",
      "Time: 9, MSE: 0.4472181499004364\n",
      "Time: 10, MSE: 0.7284237742424011\n",
      "Time: 11, MSE: 0.15478496253490448\n",
      "Time: 12, MSE: 0.25620269775390625\n",
      "Time: 13, MSE: 0.10514488816261292\n",
      "Time: 14, MSE: 0.15103629231452942\n",
      "Time: 15, MSE: 0.14955833554267883\n",
      "Time: 16, MSE: 0.11642026156187057\n",
      "Time: 17, MSE: 0.4427422881126404\n",
      "Time: 18, MSE: 0.22057747840881348\n",
      "Time: 19, MSE: 0.13471972942352295\n",
      "Time: 20, MSE: 0.09700414538383484\n",
      "Time: 21, MSE: 1.1750962734222412\n",
      "Time: 22, MSE: 0.0966901034116745\n",
      "Time: 23, MSE: 0.8365254402160645\n",
      "Time: 24, MSE: 0.11743541061878204\n",
      "Time: 25, MSE: 0.13846860826015472\n",
      "Time: 26, MSE: 0.6246578693389893\n",
      "Time: 27, MSE: 0.06348036974668503\n",
      "Time: 28, MSE: 0.9777171015739441\n",
      "Time: 29, MSE: 0.3985922336578369\n",
      "Time: 30, MSE: 1.3758044242858887\n",
      "Time: 31, MSE: 0.5668786764144897\n",
      "Time: 32, MSE: 0.4621550738811493\n",
      "Time: 33, MSE: 1.3203563690185547\n",
      "Time: 34, MSE: 0.08230330049991608\n",
      "Time: 35, MSE: 0.6674981117248535\n",
      "Time: 36, MSE: 0.18874506652355194\n",
      "Time: 37, MSE: 0.33178696036338806\n",
      "Time: 38, MSE: 0.13082414865493774\n",
      "Time: 39, MSE: 0.19741062819957733\n",
      "Time: 40, MSE: 0.8771551847457886\n",
      "Time: 41, MSE: 0.177445650100708\n",
      "Time: 42, MSE: 0.12065628170967102\n",
      "Time: 43, MSE: 0.09903514385223389\n",
      "Time: 44, MSE: 0.21362188458442688\n",
      "Time: 45, MSE: 1.1952201128005981\n",
      "Time: 46, MSE: 0.3575309216976166\n",
      "Time: 47, MSE: 0.1185617744922638\n",
      "Time: 48, MSE: 0.35045236349105835\n",
      "Time: 49, MSE: 0.06749562919139862\n",
      "Time: 50, MSE: 0.07398243993520737\n",
      "Time: 51, MSE: 0.06639327108860016\n",
      "Time: 52, MSE: 0.6828275918960571\n",
      "Time: 53, MSE: 0.22765642404556274\n",
      "Time: 54, MSE: 0.4819323420524597\n",
      "Time: 55, MSE: 0.5339430570602417\n",
      "Time: 56, MSE: 0.06753574311733246\n",
      "Time: 57, MSE: 0.1287834346294403\n",
      "Time: 58, MSE: 0.17142102122306824\n",
      "Time: 59, MSE: 0.09566809237003326\n",
      "Time: 60, MSE: 0.10296289622783661\n",
      "Time: 61, MSE: 0.11901503801345825\n",
      "Time: 62, MSE: 0.6147789359092712\n",
      "Time: 63, MSE: 0.03923428803682327\n",
      "Time: 64, MSE: 1.7402255535125732\n",
      "Time: 65, MSE: 0.1456337869167328\n",
      "Time: 66, MSE: 0.5935375094413757\n",
      "Time: 67, MSE: 0.09577047824859619\n",
      "Time: 68, MSE: 0.5058112144470215\n",
      "Time: 69, MSE: 0.1836317777633667\n",
      "Time: 70, MSE: 0.07948935031890869\n",
      "Time: 71, MSE: 0.5147473216056824\n",
      "Time: 72, MSE: 0.5933606624603271\n",
      "Time: 73, MSE: 0.562385082244873\n",
      "Time: 74, MSE: 0.22448645532131195\n",
      "Time: 75, MSE: 0.4602569043636322\n",
      "Time: 76, MSE: 0.11308160424232483\n",
      "Time: 77, MSE: 0.11329774558544159\n",
      "Time: 78, MSE: 0.6540116667747498\n",
      "Time: 79, MSE: 0.13647718727588654\n",
      "Time: 80, MSE: 0.7522131204605103\n",
      "Time: 81, MSE: 0.1287347376346588\n",
      "Time: 82, MSE: 0.10218723118305206\n",
      "Time: 83, MSE: 0.5651305913925171\n",
      "Time: 84, MSE: 0.10264924168586731\n",
      "Time: 85, MSE: 0.09552755206823349\n",
      "Time: 86, MSE: 0.24089187383651733\n",
      "Time: 87, MSE: 0.08270926028490067\n",
      "Time: 88, MSE: 0.08155003190040588\n",
      "Time: 89, MSE: 0.11659349501132965\n",
      "Time: 90, MSE: 0.8653091192245483\n",
      "Time: 91, MSE: 0.17242145538330078\n",
      "Time: 92, MSE: 0.3197022080421448\n",
      "Time: 93, MSE: 0.08360448479652405\n",
      "Time: 94, MSE: 0.18287095427513123\n",
      "Time: 95, MSE: 0.07715806365013123\n",
      "Time: 96, MSE: 0.24442806839942932\n",
      "Time: 97, MSE: 0.2741842269897461\n",
      "Time: 98, MSE: 0.15573494136333466\n",
      "Time: 99, MSE: 0.14784246683120728\n",
      "Time: 100, MSE: 0.09186771512031555\n",
      "Time: 101, MSE: 0.12870174646377563\n",
      "Time: 102, MSE: 0.8483454585075378\n",
      "Time: 103, MSE: 0.061660975217819214\n",
      "Time: 104, MSE: 0.32757681608200073\n",
      "Time: 105, MSE: 0.3549956977367401\n",
      "Time: 106, MSE: 0.33980321884155273\n",
      "Time: 107, MSE: 0.14826880395412445\n",
      "Time: 108, MSE: 0.09572811424732208\n",
      "Time: 109, MSE: 0.4058011472225189\n",
      "Time: 110, MSE: 0.17660610377788544\n",
      "Time: 111, MSE: 0.4452309310436249\n",
      "Time: 112, MSE: 0.16609832644462585\n",
      "Time: 113, MSE: 0.17477601766586304\n",
      "Time: 114, MSE: 0.4532928466796875\n",
      "Time: 115, MSE: 0.12147711217403412\n",
      "Time: 116, MSE: 0.33845266699790955\n",
      "Time: 117, MSE: 0.15627425909042358\n",
      "Time: 118, MSE: 0.1831885278224945\n",
      "Time: 119, MSE: 0.1706204116344452\n",
      "Time: 120, MSE: 0.23577140271663666\n",
      "Time: 121, MSE: 0.3781396150588989\n",
      "Time: 122, MSE: 0.09494577348232269\n",
      "Time: 123, MSE: 0.24257725477218628\n",
      "Time: 124, MSE: 0.1245015561580658\n",
      "Time: 125, MSE: 1.7124786376953125\n",
      "Time: 126, MSE: 0.18881699442863464\n",
      "Time: 127, MSE: 0.11156845092773438\n",
      "Time: 128, MSE: 0.41828495264053345\n",
      "Time: 129, MSE: 0.12991689145565033\n",
      "Time: 130, MSE: 0.09941612184047699\n",
      "Time: 131, MSE: 0.10756814479827881\n",
      "Time: 132, MSE: 0.36588239669799805\n",
      "Time: 133, MSE: 0.43827229738235474\n",
      "Time: 134, MSE: 0.09128021448850632\n",
      "Time: 135, MSE: 0.13741694390773773\n",
      "Time: 136, MSE: 0.05794648453593254\n",
      "Time: 137, MSE: 1.1577032804489136\n",
      "Time: 138, MSE: 0.11719775199890137\n",
      "Time: 139, MSE: 0.10125192254781723\n",
      "Time: 140, MSE: 0.35412725806236267\n",
      "Time: 141, MSE: 0.06904508173465729\n",
      "Time: 142, MSE: 1.00507390499115\n",
      "Time: 143, MSE: 0.30688637495040894\n",
      "Time: 144, MSE: 0.23538631200790405\n",
      "Time: 145, MSE: 0.08215154707431793\n",
      "Time: 146, MSE: 0.5335426330566406\n",
      "Time: 147, MSE: 0.1975507140159607\n",
      "Time: 148, MSE: 0.1279238760471344\n",
      "Time: 149, MSE: 0.7964529395103455\n",
      "Time: 150, MSE: 0.10218727588653564\n",
      "Time: 151, MSE: 0.37339621782302856\n",
      "Time: 152, MSE: 1.014237880706787\n",
      "Time: 153, MSE: 0.08979372680187225\n",
      "Time: 154, MSE: 0.1308782696723938\n",
      "Time: 155, MSE: 0.19237300753593445\n",
      "Time: 156, MSE: 0.5900866985321045\n",
      "Time: 157, MSE: 0.11590688675642014\n",
      "Time: 158, MSE: 0.25168418884277344\n",
      "Time: 159, MSE: 1.9687809944152832\n",
      "Time: 160, MSE: 0.3454759120941162\n",
      "Time: 161, MSE: 0.09576244652271271\n",
      "Time: 162, MSE: 0.11934256553649902\n",
      "Time: 163, MSE: 0.25680696964263916\n",
      "Time: 164, MSE: 0.06599977612495422\n",
      "Time: 165, MSE: 0.1772756427526474\n",
      "Time: 166, MSE: 0.2852975130081177\n",
      "Time: 167, MSE: 0.06705977022647858\n",
      "Time: 168, MSE: 0.0611686110496521\n",
      "Time: 169, MSE: 0.14432573318481445\n",
      "Time: 170, MSE: 0.14424368739128113\n",
      "Time: 171, MSE: 0.32634463906288147\n",
      "Time: 172, MSE: 0.13564547896385193\n",
      "Time: 173, MSE: 0.32224321365356445\n",
      "Time: 174, MSE: 0.11130069196224213\n",
      "Time: 175, MSE: 0.055620960891246796\n",
      "Time: 176, MSE: 0.1001732349395752\n",
      "Time: 177, MSE: 0.16540971398353577\n",
      "Time: 178, MSE: 0.451901376247406\n",
      "Time: 179, MSE: 0.24885061383247375\n",
      "Time: 180, MSE: 0.15909919142723083\n",
      "Time: 181, MSE: 0.18362675607204437\n",
      "Time: 182, MSE: 0.05221972614526749\n",
      "Time: 183, MSE: 0.49906134605407715\n",
      "Time: 184, MSE: 0.1108819842338562\n",
      "Time: 185, MSE: 0.08473441004753113\n",
      "Time: 186, MSE: 0.08780770003795624\n",
      "Time: 187, MSE: 0.24463626742362976\n",
      "Time: 188, MSE: 0.3838777542114258\n",
      "Time: 189, MSE: 0.10766112804412842\n",
      "Time: 190, MSE: 0.3077506721019745\n",
      "Time: 191, MSE: 0.37054556608200073\n",
      "Time: 192, MSE: 0.18718235194683075\n",
      "Time: 193, MSE: 0.4938451647758484\n",
      "Time: 194, MSE: 1.4281470775604248\n",
      "Time: 195, MSE: 0.2734653055667877\n",
      "Time: 196, MSE: 0.05942206829786301\n",
      "Time: 197, MSE: 0.32093900442123413\n",
      "Time: 198, MSE: 0.061831872910261154\n",
      "Time: 199, MSE: 0.17081201076507568\n"
     ]
    }
   ],
   "source": [
    "for i in range(1, 200):\n",
    "    horizon = get_horizon(i)\n",
    "    if len(horizon) == 0:\n",
    "        continue\n",
    "    horizon_input = horizon[[\"Time\", \"Points:0\", \"Points:1\", \"Points:2\"]].values\n",
    "    horizon_input = forward_transform_input(horizon_input)\n",
    "    horizon_input = torch.tensor(horizon_input, dtype=torch.float32)\n",
    "    horizon_input = horizon_input.to(device)\n",
    "\n",
    "    horizon_output = horizon[[\"U:0\", \"U:1\", \"U:2\", \"p\"]].values\n",
    "    horizon_output = forward_transform_output(horizon_output)\n",
    "    horizon_output = torch.tensor(horizon_output, dtype=torch.float32)\n",
    "    horizon_output = horizon_output.to(device)\n",
    "\n",
    "    pred_horizon_output = PINN(horizon_input)\n",
    "\n",
    "    print(\"Time: {}, MSE: {}\".format(i, nn.MSELoss()(pred_horizon_output, horizon_output).item()))"
   ]
  },
  {
   "cell_type": "markdown",
   "id": "e8cbf39b",
   "metadata": {},
   "source": [
    "## Annex stuff"
   ]
  },
  {
   "cell_type": "code",
   "execution_count": null,
   "id": "ae898adc",
   "metadata": {},
   "outputs": [],
   "source": [
    "from src.data_process.load_data import import_data\n",
    "import src.tools.plot_tools as plot_tools"
   ]
  },
  {
   "cell_type": "code",
   "execution_count": null,
   "id": "75b56ee5",
   "metadata": {},
   "outputs": [],
   "source": [
    "x, y = import_data(datafile, df, forward_transform_input, forward_transform_output)"
   ]
  },
  {
   "cell_type": "code",
   "execution_count": null,
   "id": "179fef2a",
   "metadata": {},
   "outputs": [],
   "source": [
    "t, _, _, _ = forward_transform_input(np.array([time, 1., 0., 1.]))"
   ]
  },
  {
   "cell_type": "code",
   "execution_count": null,
   "id": "b8f925c1",
   "metadata": {},
   "outputs": [],
   "source": [
    "t"
   ]
  },
  {
   "cell_type": "code",
   "execution_count": null,
   "id": "62454f15",
   "metadata": {},
   "outputs": [],
   "source": [
    "x[:, 0]"
   ]
  },
  {
   "cell_type": "code",
   "execution_count": null,
   "id": "22c34b90",
   "metadata": {},
   "outputs": [],
   "source": [
    "indx = torch.where(torch.abs(x[:, 0] - t) < 0.5)\n",
    "x_time = x[indx]\n",
    "y_time = y[indx]"
   ]
  },
  {
   "cell_type": "code",
   "execution_count": null,
   "id": "10462647",
   "metadata": {},
   "outputs": [],
   "source": [
    "x_time[:, 0].unique()"
   ]
  },
  {
   "cell_type": "code",
   "execution_count": null,
   "id": "5967e540",
   "metadata": {},
   "outputs": [],
   "source": [
    "pred_all = PINN(x_time.to(device))\n",
    "mse = nn.MSELoss()\n",
    "loss = mse(pred_all, y_time.to(device))\n",
    "print(\"MSE Loss: \", loss.item())"
   ]
  },
  {
   "cell_type": "code",
   "execution_count": null,
   "id": "d26f4c4d",
   "metadata": {},
   "outputs": [],
   "source": [
    "x_min, x_max = 0., 4.\n",
    "y_min, y_max = 0., 2.\n",
    "x_ax = np.linspace(x_min, x_max, 100)  # Spatial grid (x)\n",
    "y_ax = np.linspace(y_min, y_max, 100)  # Spatial grid (y)\n",
    "t = np.linspace(0, 100, 100)   # Time grid\n",
    "\n",
    "# Create meshgrid for plotting\n",
    "X, Y = np.meshgrid(x_ax, y_ax)"
   ]
  },
  {
   "cell_type": "code",
   "execution_count": null,
   "id": "cc55b2a5",
   "metadata": {},
   "outputs": [],
   "source": [
    "sampled_z = np.unique(x[:, 3])\n",
    "sampled_z = sampled_z[0]"
   ]
  },
  {
   "cell_type": "code",
   "execution_count": null,
   "id": "c1b734c7",
   "metadata": {},
   "outputs": [],
   "source": [
    "plot_tools.plot_speed_map(\n",
    "        model=PINN,\n",
    "        X=X,\n",
    "        Y=Y,\n",
    "        t=t,\n",
    "        save_dir=\"\",\n",
    "        device=device,\n",
    "        non_dim=True,\n",
    "        forward_transform_input=forward_transform_input,\n",
    "        inverse_transform_output=inverse_transform_output,\n",
    "        additional_name=\"_intermediate_model\",\n",
    "        sample_z=sampled_z,\n",
    "    )"
   ]
  }
 ],
 "metadata": {
  "kernelspec": {
   "display_name": "vincent",
   "language": "python",
   "name": "python3"
  },
  "language_info": {
   "codemirror_mode": {
    "name": "ipython",
    "version": 3
   },
   "file_extension": ".py",
   "mimetype": "text/x-python",
   "name": "python",
   "nbconvert_exporter": "python",
   "pygments_lexer": "ipython3",
   "version": "3.12.5"
  }
 },
 "nbformat": 4,
 "nbformat_minor": 5
}
