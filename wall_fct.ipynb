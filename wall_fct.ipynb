{
 "cells": [
  {
   "cell_type": "code",
   "execution_count": 1,
   "id": "e02b5c0d",
   "metadata": {},
   "outputs": [],
   "source": [
    "import pandas as pd\n",
    "import torch\n",
    "import matplotlib.pyplot as plt\n",
    "import torch.nn as nn\n",
    "import numpy as np"
   ]
  },
  {
   "cell_type": "code",
   "execution_count": 5,
   "id": "f2a9970b",
   "metadata": {},
   "outputs": [],
   "source": [
    "from src.models import model"
   ]
  },
  {
   "cell_type": "code",
   "execution_count": 6,
   "id": "d64189b7",
   "metadata": {},
   "outputs": [],
   "source": [
    "device = \"cuda\""
   ]
  },
  {
   "cell_type": "code",
   "execution_count": 7,
   "id": "30555e96",
   "metadata": {},
   "outputs": [],
   "source": [
    "PINN = model.PINN_import(\"./results/2025-05-22_11-59-35/model_intermediate_model.pth\", input_len=256, output_len=3, RFF = True, device = device)"
   ]
  },
  {
   "cell_type": "code",
   "execution_count": 8,
   "id": "3dc2aa10",
   "metadata": {},
   "outputs": [],
   "source": [
    "datafile = \"./data/cylinder.csv\""
   ]
  },
  {
   "cell_type": "code",
   "execution_count": 9,
   "id": "8f35a972",
   "metadata": {},
   "outputs": [],
   "source": [
    "df = pd.read_csv(datafile)"
   ]
  },
  {
   "cell_type": "code",
   "execution_count": 10,
   "id": "c62de381",
   "metadata": {},
   "outputs": [],
   "source": [
    "horizon = df.loc[np.abs(df[\"Points:0\"])<0.05].reset_index()\n",
    "horizon = horizon[horizon[\"Points:2\"]==0.5]"
   ]
  },
  {
   "cell_type": "code",
   "execution_count": 11,
   "id": "b48448f4",
   "metadata": {},
   "outputs": [],
   "source": [
    "time = np.random.randint(1, 149)"
   ]
  },
  {
   "cell_type": "code",
   "execution_count": 12,
   "id": "3d30c025",
   "metadata": {},
   "outputs": [],
   "source": [
    "horizon = horizon[horizon[\"Time\"]==time]"
   ]
  },
  {
   "cell_type": "code",
   "execution_count": 13,
   "id": "f2527fa9",
   "metadata": {},
   "outputs": [],
   "source": [
    "horizon = horizon[horizon[\"Points:1\"]>0.]"
   ]
  },
  {
   "cell_type": "code",
   "execution_count": 36,
   "id": "369adba8",
   "metadata": {},
   "outputs": [],
   "source": [
    "horizon = horizon[horizon[\"Points:1\"]<2.]"
   ]
  },
  {
   "cell_type": "code",
   "execution_count": 37,
   "id": "900597f9",
   "metadata": {},
   "outputs": [
    {
     "name": "stdout",
     "output_type": "stream",
     "text": [
      "<class 'pandas.core.frame.DataFrame'>\n",
      "Index: 12 entries, 6957 to 6968\n",
      "Data columns (total 10 columns):\n",
      " #   Column    Non-Null Count  Dtype  \n",
      "---  ------    --------------  -----  \n",
      " 0   index     12 non-null     int64  \n",
      " 1   TimeStep  12 non-null     int64  \n",
      " 2   Time      12 non-null     int64  \n",
      " 3   Points:0  12 non-null     float64\n",
      " 4   Points:1  12 non-null     float64\n",
      " 5   Points:2  12 non-null     float64\n",
      " 6   U:0       12 non-null     float64\n",
      " 7   U:1       12 non-null     float64\n",
      " 8   U:2       12 non-null     float64\n",
      " 9   p         12 non-null     float64\n",
      "dtypes: float64(7), int64(3)\n",
      "memory usage: 1.0 KB\n"
     ]
    }
   ],
   "source": [
    "horizon.info()"
   ]
  },
  {
   "cell_type": "code",
   "execution_count": 38,
   "id": "e4130ecb",
   "metadata": {},
   "outputs": [],
   "source": [
    "y_axis = horizon[\"Points:1\"].values\n",
    "u_x = horizon[\"U:0\"].values\n",
    "x_axis = horizon[\"Points:0\"].values\n",
    "abs_x_axis = np.abs(x_axis)"
   ]
  },
  {
   "cell_type": "code",
   "execution_count": 39,
   "id": "4f87e7be",
   "metadata": {},
   "outputs": [
    {
     "data": {
      "image/png": "[encoded data removed]",
      "text/plain": [
       "<Figure size 640x480 with 2 Axes>"
      ]
     },
     "metadata": {},
     "output_type": "display_data"
    }
   ],
   "source": [
    "plt.scatter(u_x, y_axis, c = abs_x_axis, cmap='viridis', label=\"U:0\")\n",
    "plt.xlabel(\"U_x\")\n",
    "plt.ylabel(\"Y-axis\")\n",
    "plt.title(\"U:1 at Time = {}\".format(time))\n",
    "plt.legend()\n",
    "plt.colorbar(label=\"X-axis\")\n",
    "plt.show()"
   ]
  },
  {
   "cell_type": "code",
   "execution_count": 1,
   "id": "8675ae11",
   "metadata": {},
   "outputs": [
    {
     "ename": "NameError",
     "evalue": "name 'torch' is not defined",
     "output_type": "error",
     "traceback": [
      "\u001b[31m---------------------------------------------------------------------------\u001b[39m",
      "\u001b[31mNameError\u001b[39m                                 Traceback (most recent call last)",
      "\u001b[36mCell\u001b[39m\u001b[36m \u001b[39m\u001b[32mIn[1]\u001b[39m\u001b[32m, line 1\u001b[39m\n\u001b[32m----> \u001b[39m\u001b[32m1\u001b[39m Y_range = \u001b[43mtorch\u001b[49m.linspace(-\u001b[32m1.5\u001b[39m, \u001b[32m1.5\u001b[39m, \u001b[32m100\u001b[39m)\n\u001b[32m      2\u001b[39m \u001b[38;5;66;03m## give me a tensor of (0., Y_range, time) knowing that Y_range is a tensor of shape (100,)\u001b[39;00m\n\u001b[32m      3\u001b[39m X_axis = torch.zeros((Y_range.shape[\u001b[32m0\u001b[39m]))\n",
      "\u001b[31mNameError\u001b[39m: name 'torch' is not defined"
     ]
    }
   ],
   "source": [
    "Y_range = torch.linspace(-1.5, 1.5, 100)\n",
    "## give me a tensor of (0., Y_range, time) knowing that Y_range is a tensor of shape (100,)\n",
    "X_axis = torch.zeros((Y_range.shape[0]))\n",
    "time_axis = time * torch.ones((Y_range.shape[0]))\n",
    "\n",
    "input_tensor = torch.stack((X_axis, Y_range, time_axis), dim=1)\n",
    "input_tensor = input_tensor.to(device)"
   ]
  },
  {
   "cell_type": "code",
   "execution_count": null,
   "id": "e6f070fe",
   "metadata": {},
   "outputs": [],
   "source": []
  },
  {
   "cell_type": "code",
   "execution_count": 32,
   "id": "68c40f6c",
   "metadata": {},
   "outputs": [],
   "source": [
    "PINN = PINN.to(device)"
   ]
  },
  {
   "cell_type": "code",
   "execution_count": 33,
   "id": "e06e7d6b",
   "metadata": {},
   "outputs": [],
   "source": [
    "U_x_pred = PINN(input_tensor)"
   ]
  },
  {
   "cell_type": "code",
   "execution_count": 34,
   "id": "882b2633",
   "metadata": {},
   "outputs": [],
   "source": [
    "y_axis = input_tensor[:, 1].cpu().detach().numpy()\n",
    "u_x_axis = U_x_pred[:, 0].cpu().detach().numpy()"
   ]
  },
  {
   "cell_type": "code",
   "execution_count": 35,
   "id": "3f0e0d62",
   "metadata": {},
   "outputs": [
    {
     "name": "stderr",
     "output_type": "stream",
     "text": [
      "/tmp/ipykernel_1306008/3617828303.py:5: UserWarning: No artists with labels found to put in legend.  Note that artists whose label start with an underscore are ignored when legend() is called with no argument.\n",
      "  plt.legend()\n"
     ]
    },
    {
     "data": {
      "image/png": "[encoded data removed]",
      "text/plain": [
       "<Figure size 640x480 with 1 Axes>"
      ]
     },
     "metadata": {},
     "output_type": "display_data"
    }
   ],
   "source": [
    "plt.scatter(u_x_axis, y_axis,)\n",
    "plt.xlabel(\"U_x\")\n",
    "plt.ylabel(\"Y-axis\")\n",
    "plt.title(\"U:1 at Time = {}\".format(time))\n",
    "plt.legend()\n",
    "plt.show()"
   ]
  },
  {
   "cell_type": "code",
   "execution_count": null,
   "id": "75b56ee5",
   "metadata": {},
   "outputs": [],
   "source": []
  }
 ],
 "metadata": {
  "kernelspec": {
   "display_name": "vincent",
   "language": "python",
   "name": "python3"
  },
  "language_info": {
   "codemirror_mode": {
    "name": "ipython",
    "version": 3
   },
   "file_extension": ".py",
   "mimetype": "text/x-python",
   "name": "python",
   "nbconvert_exporter": "python",
   "pygments_lexer": "ipython3",
   "version": "3.12.2"
  }
 },
 "nbformat": 4,
 "nbformat_minor": 5
}
