{
 "cells": [
  {
   "cell_type": "markdown",
   "id": "e0ea4a8a",
   "metadata": {},
   "source": [
    "# Cleaning the data"
   ]
  },
  {
   "cell_type": "markdown",
   "id": "91a744a1",
   "metadata": {},
   "source": [
    "Usually we obtain the simulated data as a cgsn file, then use Paraview to turn it into a csv."
   ]
  },
  {
   "cell_type": "code",
   "execution_count": 3,
   "id": "75667a1a",
   "metadata": {},
   "outputs": [],
   "source": [
    "import pandas as pd\n",
    "import numpy as np\n",
    "import matplotlib.pyplot as plt\n",
    "from matplotlib.animation import FuncAnimation"
   ]
  },
  {
   "cell_type": "code",
   "execution_count": 2,
   "id": "f852077a",
   "metadata": {},
   "outputs": [
    {
     "name": "stdout",
     "output_type": "stream",
     "text": [
      "Current working directory: /home/fdht09/vincent/DeepXDE_test/Gitlab_proj/PINN_custom\n"
     ]
    }
   ],
   "source": [
    "import os\n",
    "print(\"Current working directory:\", os.getcwd())"
   ]
  },
  {
   "cell_type": "code",
   "execution_count": 3,
   "id": "7190feac",
   "metadata": {},
   "outputs": [
    {
     "name": "stdout",
     "output_type": "stream",
     "text": [
      "Contents of current directory: ['data_previsualization.ipynb', 'runs', '1serp_noChem_speed_animation_test.gif', 'wall_fct.ipynb', 'main.py', 'data_previsualization_2.ipynb', '.gitignore', '.git', 'data', 'requirements.txt', 'README.md', '__pycache__', 'src', 'results']\n"
     ]
    }
   ],
   "source": [
    "print(\"Contents of current directory:\", os.listdir('.'))"
   ]
  },
  {
   "cell_type": "markdown",
   "id": "7519e0d8",
   "metadata": {},
   "source": [
    "file path for the raw csv from Paraview"
   ]
  },
  {
   "cell_type": "code",
   "execution_count": 4,
   "id": "8db2a432",
   "metadata": {},
   "outputs": [],
   "source": [
    "file_path = \"./data/periodic_data_cleaned.csv\""
   ]
  },
  {
   "cell_type": "code",
   "execution_count": 5,
   "id": "2cb84772",
   "metadata": {},
   "outputs": [],
   "source": [
    "df = pd.read_csv(file_path)"
   ]
  },
  {
   "cell_type": "markdown",
   "id": "34b707f1",
   "metadata": {},
   "source": [
    "## Looking at rough description of data"
   ]
  },
  {
   "cell_type": "code",
   "execution_count": 6,
   "id": "422f8675",
   "metadata": {},
   "outputs": [
    {
     "data": {
      "text/html": [
       "<div>\n",
       "<style scoped>\n",
       "    .dataframe tbody tr th:only-of-type {\n",
       "        vertical-align: middle;\n",
       "    }\n",
       "\n",
       "    .dataframe tbody tr th {\n",
       "        vertical-align: top;\n",
       "    }\n",
       "\n",
       "    .dataframe thead th {\n",
       "        text-align: right;\n",
       "    }\n",
       "</style>\n",
       "<table border=\"1\" class=\"dataframe\">\n",
       "  <thead>\n",
       "    <tr style=\"text-align: right;\">\n",
       "      <th></th>\n",
       "      <th>Time</th>\n",
       "      <th>point_id</th>\n",
       "      <th>Points:0</th>\n",
       "      <th>Points:1</th>\n",
       "      <th>Points:2</th>\n",
       "      <th>p</th>\n",
       "      <th>U:0</th>\n",
       "      <th>U:1</th>\n",
       "      <th>U:2</th>\n",
       "    </tr>\n",
       "  </thead>\n",
       "  <tbody>\n",
       "    <tr>\n",
       "      <th>69787404</th>\n",
       "      <td>560.0</td>\n",
       "      <td>120081</td>\n",
       "      <td>3.3</td>\n",
       "      <td>1.650072</td>\n",
       "      <td>1.133333</td>\n",
       "      <td>-1.126204e-08</td>\n",
       "      <td>0.444340</td>\n",
       "      <td>-2.916906e-08</td>\n",
       "      <td>-1.139149e-10</td>\n",
       "    </tr>\n",
       "    <tr>\n",
       "      <th>61863591</th>\n",
       "      <td>4600.0</td>\n",
       "      <td>39609</td>\n",
       "      <td>0.3</td>\n",
       "      <td>0.596731</td>\n",
       "      <td>1.000000</td>\n",
       "      <td>-3.838477e-04</td>\n",
       "      <td>0.426858</td>\n",
       "      <td>-4.194277e-03</td>\n",
       "      <td>-1.152210e-02</td>\n",
       "    </tr>\n",
       "    <tr>\n",
       "      <th>22139393</th>\n",
       "      <td>2270.0</td>\n",
       "      <td>147280</td>\n",
       "      <td>0.8</td>\n",
       "      <td>1.726397</td>\n",
       "      <td>1.866667</td>\n",
       "      <td>-6.036700e-05</td>\n",
       "      <td>0.396229</td>\n",
       "      <td>-8.147057e-03</td>\n",
       "      <td>1.263775e-02</td>\n",
       "    </tr>\n",
       "    <tr>\n",
       "      <th>62094999</th>\n",
       "      <td>4610.0</td>\n",
       "      <td>117226</td>\n",
       "      <td>0.7</td>\n",
       "      <td>1.403269</td>\n",
       "      <td>1.066667</td>\n",
       "      <td>3.791132e-04</td>\n",
       "      <td>0.428311</td>\n",
       "      <td>5.368823e-03</td>\n",
       "      <td>-2.572982e-03</td>\n",
       "    </tr>\n",
       "    <tr>\n",
       "      <th>17754539</th>\n",
       "      <td>2010.0</td>\n",
       "      <td>68574</td>\n",
       "      <td>2.2</td>\n",
       "      <td>0.114619</td>\n",
       "      <td>1.800000</td>\n",
       "      <td>-4.163783e-05</td>\n",
       "      <td>0.174263</td>\n",
       "      <td>6.610261e-05</td>\n",
       "      <td>-8.934400e-05</td>\n",
       "    </tr>\n",
       "    <tr>\n",
       "      <th>47950707</th>\n",
       "      <td>3790.0</td>\n",
       "      <td>121706</td>\n",
       "      <td>1.8</td>\n",
       "      <td>1.995461</td>\n",
       "      <td>1.133333</td>\n",
       "      <td>1.334223e-04</td>\n",
       "      <td>0.080229</td>\n",
       "      <td>3.618041e-04</td>\n",
       "      <td>3.803175e-03</td>\n",
       "    </tr>\n",
       "    <tr>\n",
       "      <th>57720511</th>\n",
       "      <td>4360.0</td>\n",
       "      <td>48886</td>\n",
       "      <td>1.4</td>\n",
       "      <td>0.198883</td>\n",
       "      <td>1.266667</td>\n",
       "      <td>-8.409859e-04</td>\n",
       "      <td>0.369200</td>\n",
       "      <td>-4.010439e-03</td>\n",
       "      <td>-9.579443e-03</td>\n",
       "    </tr>\n",
       "    <tr>\n",
       "      <th>43026678</th>\n",
       "      <td>350.0</td>\n",
       "      <td>118989</td>\n",
       "      <td>0.7</td>\n",
       "      <td>1.978458</td>\n",
       "      <td>1.066667</td>\n",
       "      <td>-2.524080e-09</td>\n",
       "      <td>0.066682</td>\n",
       "      <td>1.009538e-09</td>\n",
       "      <td>-4.636162e-09</td>\n",
       "    </tr>\n",
       "    <tr>\n",
       "      <th>52572447</th>\n",
       "      <td>4050.0</td>\n",
       "      <td>129716</td>\n",
       "      <td>3.3</td>\n",
       "      <td>1.527982</td>\n",
       "      <td>1.400000</td>\n",
       "      <td>1.903913e-04</td>\n",
       "      <td>0.413734</td>\n",
       "      <td>1.156999e-02</td>\n",
       "      <td>-6.580820e-03</td>\n",
       "    </tr>\n",
       "    <tr>\n",
       "      <th>17931175</th>\n",
       "      <td>2020.0</td>\n",
       "      <td>91419</td>\n",
       "      <td>3.0</td>\n",
       "      <td>1.915571</td>\n",
       "      <td>0.333333</td>\n",
       "      <td>-3.786644e-05</td>\n",
       "      <td>0.134264</td>\n",
       "      <td>1.250190e-05</td>\n",
       "      <td>-5.712031e-05</td>\n",
       "    </tr>\n",
       "  </tbody>\n",
       "</table>\n",
       "</div>"
      ],
      "text/plain": [
       "            Time  point_id  Points:0  Points:1  Points:2             p  \\\n",
       "69787404   560.0    120081       3.3  1.650072  1.133333 -1.126204e-08   \n",
       "61863591  4600.0     39609       0.3  0.596731  1.000000 -3.838477e-04   \n",
       "22139393  2270.0    147280       0.8  1.726397  1.866667 -6.036700e-05   \n",
       "62094999  4610.0    117226       0.7  1.403269  1.066667  3.791132e-04   \n",
       "17754539  2010.0     68574       2.2  0.114619  1.800000 -4.163783e-05   \n",
       "47950707  3790.0    121706       1.8  1.995461  1.133333  1.334223e-04   \n",
       "57720511  4360.0     48886       1.4  0.198883  1.266667 -8.409859e-04   \n",
       "43026678   350.0    118989       0.7  1.978458  1.066667 -2.524080e-09   \n",
       "52572447  4050.0    129716       3.3  1.527982  1.400000  1.903913e-04   \n",
       "17931175  2020.0     91419       3.0  1.915571  0.333333 -3.786644e-05   \n",
       "\n",
       "               U:0           U:1           U:2  \n",
       "69787404  0.444340 -2.916906e-08 -1.139149e-10  \n",
       "61863591  0.426858 -4.194277e-03 -1.152210e-02  \n",
       "22139393  0.396229 -8.147057e-03  1.263775e-02  \n",
       "62094999  0.428311  5.368823e-03 -2.572982e-03  \n",
       "17754539  0.174263  6.610261e-05 -8.934400e-05  \n",
       "47950707  0.080229  3.618041e-04  3.803175e-03  \n",
       "57720511  0.369200 -4.010439e-03 -9.579443e-03  \n",
       "43026678  0.066682  1.009538e-09 -4.636162e-09  \n",
       "52572447  0.413734  1.156999e-02 -6.580820e-03  \n",
       "17931175  0.134264  1.250190e-05 -5.712031e-05  "
      ]
     },
     "execution_count": 6,
     "metadata": {},
     "output_type": "execute_result"
    }
   ],
   "source": [
    "df.sample(10)"
   ]
  },
  {
   "cell_type": "markdown",
   "id": "432cb92e",
   "metadata": {},
   "source": [
    "May take some time to describe if the data is big."
   ]
  },
  {
   "cell_type": "code",
   "execution_count": 7,
   "id": "951fce52",
   "metadata": {},
   "outputs": [
    {
     "data": {
      "text/html": [
       "<div>\n",
       "<style scoped>\n",
       "    .dataframe tbody tr th:only-of-type {\n",
       "        vertical-align: middle;\n",
       "    }\n",
       "\n",
       "    .dataframe tbody tr th {\n",
       "        vertical-align: top;\n",
       "    }\n",
       "\n",
       "    .dataframe thead th {\n",
       "        text-align: right;\n",
       "    }\n",
       "</style>\n",
       "<table border=\"1\" class=\"dataframe\">\n",
       "  <thead>\n",
       "    <tr style=\"text-align: right;\">\n",
       "      <th></th>\n",
       "      <th>Time</th>\n",
       "      <th>point_id</th>\n",
       "      <th>Points:0</th>\n",
       "      <th>Points:1</th>\n",
       "      <th>Points:2</th>\n",
       "      <th>p</th>\n",
       "      <th>U:0</th>\n",
       "      <th>U:1</th>\n",
       "      <th>U:2</th>\n",
       "    </tr>\n",
       "  </thead>\n",
       "  <tbody>\n",
       "    <tr>\n",
       "      <th>count</th>\n",
       "      <td>7.704929e+07</td>\n",
       "      <td>7.704929e+07</td>\n",
       "      <td>7.704929e+07</td>\n",
       "      <td>7.704929e+07</td>\n",
       "      <td>7.704929e+07</td>\n",
       "      <td>7.704929e+07</td>\n",
       "      <td>7.704929e+07</td>\n",
       "      <td>7.704929e+07</td>\n",
       "      <td>7.704929e+07</td>\n",
       "    </tr>\n",
       "    <tr>\n",
       "      <th>mean</th>\n",
       "      <td>2.500000e+03</td>\n",
       "      <td>7.689500e+04</td>\n",
       "      <td>2.000000e+00</td>\n",
       "      <td>1.000000e+00</td>\n",
       "      <td>1.000000e+00</td>\n",
       "      <td>1.590331e-05</td>\n",
       "      <td>3.081454e-01</td>\n",
       "      <td>-6.297386e-06</td>\n",
       "      <td>-1.241456e-04</td>\n",
       "    </tr>\n",
       "    <tr>\n",
       "      <th>std</th>\n",
       "      <td>1.446260e+03</td>\n",
       "      <td>4.439564e+04</td>\n",
       "      <td>1.183216e+00</td>\n",
       "      <td>7.831043e-01</td>\n",
       "      <td>5.962848e-01</td>\n",
       "      <td>6.356747e-04</td>\n",
       "      <td>1.443003e-01</td>\n",
       "      <td>6.359226e-03</td>\n",
       "      <td>1.031086e-02</td>\n",
       "    </tr>\n",
       "    <tr>\n",
       "      <th>min</th>\n",
       "      <td>0.000000e+00</td>\n",
       "      <td>0.000000e+00</td>\n",
       "      <td>0.000000e+00</td>\n",
       "      <td>0.000000e+00</td>\n",
       "      <td>0.000000e+00</td>\n",
       "      <td>-8.385121e-03</td>\n",
       "      <td>-8.813336e-03</td>\n",
       "      <td>-1.204620e-01</td>\n",
       "      <td>-1.552387e-01</td>\n",
       "    </tr>\n",
       "    <tr>\n",
       "      <th>25%</th>\n",
       "      <td>1.250000e+03</td>\n",
       "      <td>3.844700e+04</td>\n",
       "      <td>1.000000e+00</td>\n",
       "      <td>1.629123e-01</td>\n",
       "      <td>4.666667e-01</td>\n",
       "      <td>-9.548649e-05</td>\n",
       "      <td>2.039667e-01</td>\n",
       "      <td>-6.542691e-04</td>\n",
       "      <td>-1.708895e-03</td>\n",
       "    </tr>\n",
       "    <tr>\n",
       "      <th>50%</th>\n",
       "      <td>2.500000e+03</td>\n",
       "      <td>7.689500e+04</td>\n",
       "      <td>2.000000e+00</td>\n",
       "      <td>1.000000e+00</td>\n",
       "      <td>1.000000e+00</td>\n",
       "      <td>-1.415304e-09</td>\n",
       "      <td>3.637780e-01</td>\n",
       "      <td>0.000000e+00</td>\n",
       "      <td>0.000000e+00</td>\n",
       "    </tr>\n",
       "    <tr>\n",
       "      <th>75%</th>\n",
       "      <td>3.750000e+03</td>\n",
       "      <td>1.153430e+05</td>\n",
       "      <td>3.000000e+00</td>\n",
       "      <td>1.837088e+00</td>\n",
       "      <td>1.533333e+00</td>\n",
       "      <td>1.319332e-04</td>\n",
       "      <td>4.216372e-01</td>\n",
       "      <td>6.422824e-04</td>\n",
       "      <td>1.228451e-03</td>\n",
       "    </tr>\n",
       "    <tr>\n",
       "      <th>max</th>\n",
       "      <td>5.000000e+03</td>\n",
       "      <td>1.537900e+05</td>\n",
       "      <td>4.000000e+00</td>\n",
       "      <td>2.000000e+00</td>\n",
       "      <td>2.000000e+00</td>\n",
       "      <td>1.199402e-02</td>\n",
       "      <td>5.526472e-01</td>\n",
       "      <td>1.126035e-01</td>\n",
       "      <td>1.541705e-01</td>\n",
       "    </tr>\n",
       "  </tbody>\n",
       "</table>\n",
       "</div>"
      ],
      "text/plain": [
       "               Time      point_id      Points:0      Points:1      Points:2  \\\n",
       "count  7.704929e+07  7.704929e+07  7.704929e+07  7.704929e+07  7.704929e+07   \n",
       "mean   2.500000e+03  7.689500e+04  2.000000e+00  1.000000e+00  1.000000e+00   \n",
       "std    1.446260e+03  4.439564e+04  1.183216e+00  7.831043e-01  5.962848e-01   \n",
       "min    0.000000e+00  0.000000e+00  0.000000e+00  0.000000e+00  0.000000e+00   \n",
       "25%    1.250000e+03  3.844700e+04  1.000000e+00  1.629123e-01  4.666667e-01   \n",
       "50%    2.500000e+03  7.689500e+04  2.000000e+00  1.000000e+00  1.000000e+00   \n",
       "75%    3.750000e+03  1.153430e+05  3.000000e+00  1.837088e+00  1.533333e+00   \n",
       "max    5.000000e+03  1.537900e+05  4.000000e+00  2.000000e+00  2.000000e+00   \n",
       "\n",
       "                  p           U:0           U:1           U:2  \n",
       "count  7.704929e+07  7.704929e+07  7.704929e+07  7.704929e+07  \n",
       "mean   1.590331e-05  3.081454e-01 -6.297386e-06 -1.241456e-04  \n",
       "std    6.356747e-04  1.443003e-01  6.359226e-03  1.031086e-02  \n",
       "min   -8.385121e-03 -8.813336e-03 -1.204620e-01 -1.552387e-01  \n",
       "25%   -9.548649e-05  2.039667e-01 -6.542691e-04 -1.708895e-03  \n",
       "50%   -1.415304e-09  3.637780e-01  0.000000e+00  0.000000e+00  \n",
       "75%    1.319332e-04  4.216372e-01  6.422824e-04  1.228451e-03  \n",
       "max    1.199402e-02  5.526472e-01  1.126035e-01  1.541705e-01  "
      ]
     },
     "execution_count": 7,
     "metadata": {},
     "output_type": "execute_result"
    }
   ],
   "source": [
    "df.describe()"
   ]
  },
  {
   "cell_type": "markdown",
   "id": "32007c47",
   "metadata": {},
   "source": [
    "## Remove unecessary columns"
   ]
  },
  {
   "cell_type": "code",
   "execution_count": 19,
   "id": "7fb54185",
   "metadata": {},
   "outputs": [
    {
     "name": "stdout",
     "output_type": "stream",
     "text": [
      "Column names in the DataFrame:\n",
      "['Cell Type', 'Cell_Reynolds_Number', 'Coordinate:0', 'Coordinate:1', 'Coordinate:2', 'Mass_fraction_of_h2o', 'Mass_fraction_of_o2', 'Molar_Concentration_of_h2o', 'Molar_Concentration_of_o2', 'Mole_fraction_of_h2o', 'Mole_fraction_of_o2', 'Pressure', 'Relative_Humidity', 'Temperature', 'Velocity:0', 'Velocity:1', 'Velocity:2', 'VelocityMagnitude', 'dX-Velocity.dx', 'dX-Velocity.dy', 'dX-Velocity.dz', 'dY-Velocity.dx', 'dY-Velocity.dy', 'dY-Velocity.dz', 'dZ-Velocity.dx', 'dZ-Velocity.dy', 'dZ-Velocity.dz', 'dp-d:0', 'dp-d:1', 'dp-d:2']\n"
     ]
    }
   ],
   "source": [
    "## give the column names\n",
    "print(\"Column names in the DataFrame:\")\n",
    "print(df.columns.tolist())"
   ]
  },
  {
   "cell_type": "code",
   "execution_count": 20,
   "id": "4a878e61",
   "metadata": {},
   "outputs": [],
   "source": [
    "## create a list of column to remove and remove them\n",
    "columns_to_remove = ['Cell Type',\n",
    "                     'Mass_fraction_of_h2o', 'Mass_fraction_of_o2', 'Molar_Concentration_of_h2o', 'Molar_Concentration_of_o2', 'Mole_fraction_of_h2o', 'Mole_fraction_of_o2',\n",
    "                     'Relative_Humidity', 'Temperature',\n",
    "                     'dX-Velocity.dx', 'dX-Velocity.dy', 'dX-Velocity.dz', 'dY-Velocity.dx', 'dY-Velocity.dy', 'dY-Velocity.dz', 'dZ-Velocity.dx', 'dZ-Velocity.dy', 'dZ-Velocity.dz', 'dp-d:0', 'dp-d:1', 'dp-d:2']\n",
    "df.drop(columns=columns_to_remove, inplace=True)"
   ]
  },
  {
   "cell_type": "markdown",
   "id": "1b03efae",
   "metadata": {},
   "source": [
    "Change the name of the columns to be in accord with the code (in src/data_process/load_data.py)"
   ]
  },
  {
   "cell_type": "code",
   "execution_count": 21,
   "id": "5220e678",
   "metadata": {},
   "outputs": [],
   "source": [
    "## Change names of the columns\n",
    "df.rename(columns={\n",
    "            'Coordinate:0': 'Points:0',\n",
    "            'Coordinate:1': 'Points:1',\n",
    "            'Coordinate:2': 'Points:2',\n",
    "            'Pressure': 'p',\n",
    "            'Velocity:0': 'U:0',\n",
    "            'Velocity:1': 'U:1',\n",
    "            'Velocity:2': 'U:2',}, inplace=True)"
   ]
  },
  {
   "cell_type": "markdown",
   "id": "440a178c",
   "metadata": {},
   "source": [
    "Optional (only do it after looking at the data): sometime there is an outlier point at one extremety which doesn't mean anything (maybe from Paraview)\n",
    "Uncomment it if you need.\n",
    "Also can serve as a block to do some last changes before saving the cleaned file."
   ]
  },
  {
   "cell_type": "code",
   "execution_count": null,
   "id": "91cca695",
   "metadata": {},
   "outputs": [],
   "source": [
    "# remove the last point which is an outlier\n",
    "# df =df[df[\"Points:0\"] != 3.531500e+02] "
   ]
  },
  {
   "cell_type": "markdown",
   "id": "6177d326",
   "metadata": {},
   "source": [
    "Save the cleaned file (next time use directly the cleaned file and skip the remove column part for faster loading)"
   ]
  },
  {
   "cell_type": "code",
   "execution_count": null,
   "id": "221b7054",
   "metadata": {},
   "outputs": [],
   "source": [
    "## save df into csv\n",
    "output_file_path = \"./data/1serp_noChem8_cleaned.csv\"\n",
    "df.to_csv(output_file_path, index=False)"
   ]
  },
  {
   "cell_type": "markdown",
   "id": "027f50b3",
   "metadata": {},
   "source": [
    "## Separate the wall from the flow"
   ]
  },
  {
   "cell_type": "code",
   "execution_count": 17,
   "id": "fdd94886",
   "metadata": {},
   "outputs": [],
   "source": [
    "df_wall = df[df['p'] == 0.]\n",
    "df_wall = df_wall[df_wall['VelocityMagnitude'] == 0.]\n",
    "\n",
    "mask_flow = df['p'] != 0.\n",
    "mask_flow = mask_flow | df['VelocityMagnitude'] != 0.\n",
    "df_flow = df[mask_flow]"
   ]
  },
  {
   "cell_type": "code",
   "execution_count": null,
   "id": "ed55594c",
   "metadata": {},
   "outputs": [],
   "source": [
    "df_flow.describe()"
   ]
  },
  {
   "cell_type": "markdown",
   "id": "de3c54ba",
   "metadata": {},
   "source": [
    "## Plot the data"
   ]
  },
  {
   "cell_type": "markdown",
   "id": "94a06ee9",
   "metadata": {},
   "source": [
    "We are going to plot the data on a 2D slice and moving it on a third axis. The slice is going to have a depth that is determined by the number of step we want."
   ]
  },
  {
   "cell_type": "code",
   "execution_count": 26,
   "id": "f4006450",
   "metadata": {},
   "outputs": [],
   "source": [
    "all_points = df[['Points:0', 'Points:1', 'Points:2']].values"
   ]
  },
  {
   "cell_type": "code",
   "execution_count": null,
   "id": "3d025503",
   "metadata": {},
   "outputs": [],
   "source": [
    "horiz_axis = 2 #Z\n",
    "vert_axis = 0 #X\n",
    "depth_axis = 1 #Y"
   ]
  },
  {
   "cell_type": "code",
   "execution_count": 5,
   "id": "12c0d38c",
   "metadata": {},
   "outputs": [
    {
     "ename": "NameError",
     "evalue": "name 'all_points' is not defined",
     "output_type": "error",
     "traceback": [
      "\u001b[31m---------------------------------------------------------------------------\u001b[39m",
      "\u001b[31mNameError\u001b[39m                                 Traceback (most recent call last)",
      "\u001b[36mCell\u001b[39m\u001b[36m \u001b[39m\u001b[32mIn[5]\u001b[39m\u001b[32m, line 1\u001b[39m\n\u001b[32m----> \u001b[39m\u001b[32m1\u001b[39m depth_gross = np.linspace(\u001b[43mall_points\u001b[49m[:, depth_axis].min(), all_points[:, depth_axis].max(), num=\u001b[32m40\u001b[39m)\n\u001b[32m      2\u001b[39m width_gross = depth_gross[\u001b[32m1\u001b[39m] - depth_gross[\u001b[32m0\u001b[39m]\n",
      "\u001b[31mNameError\u001b[39m: name 'all_points' is not defined"
     ]
    }
   ],
   "source": [
    "depth_gross = np.linspace(all_points[:, depth_axis].min(), all_points[:, depth_axis].max(), num=40)\n",
    "width_gross = depth_gross[1] - depth_gross[0]"
   ]
  },
  {
   "cell_type": "markdown",
   "id": "e92b10ff",
   "metadata": {},
   "source": [
    "Change here (replace df by another DataFrame) if you need to plot another data, like only the flow or the walls.\n",
    "\n",
    "For example, replace df by df_flow to plot only the part where there is a flow."
   ]
  },
  {
   "cell_type": "code",
   "execution_count": 28,
   "id": "c7e8e5c6",
   "metadata": {},
   "outputs": [],
   "source": [
    "points = df[['Points:0', 'Points:1', 'Points:2']].values\n",
    "speed = df['VelocityMagnitude'].values"
   ]
  },
  {
   "cell_type": "markdown",
   "id": "422380c4",
   "metadata": {},
   "source": [
    "Start plot the speed"
   ]
  },
  {
   "cell_type": "code",
   "execution_count": 4,
   "id": "22602bee",
   "metadata": {},
   "outputs": [
    {
     "ename": "NameError",
     "evalue": "name 'points' is not defined",
     "output_type": "error",
     "traceback": [
      "\u001b[31m---------------------------------------------------------------------------\u001b[39m",
      "\u001b[31mNameError\u001b[39m                                 Traceback (most recent call last)",
      "\u001b[36mCell\u001b[39m\u001b[36m \u001b[39m\u001b[32mIn[4]\u001b[39m\u001b[32m, line 4\u001b[39m\n\u001b[32m      1\u001b[39m axis = \u001b[32m0\u001b[39m\n\u001b[32m      3\u001b[39m fig, ax = plt.subplots()\n\u001b[32m----> \u001b[39m\u001b[32m4\u001b[39m sc = ax.scatter(\u001b[43mpoints\u001b[49m[:, horiz_axis], points[:, vert_axis], c=speed, cmap=\u001b[33m'\u001b[39m\u001b[33mviridis\u001b[39m\u001b[33m'\u001b[39m, s=\u001b[32m0.01\u001b[39m)\n\u001b[32m      5\u001b[39m ax.set_xlabel(\u001b[33m'\u001b[39m\u001b[33mX Coordinate\u001b[39m\u001b[33m'\u001b[39m)\n\u001b[32m      6\u001b[39m ax.set_ylabel(\u001b[33m'\u001b[39m\u001b[33mY Coordinate\u001b[39m\u001b[33m'\u001b[39m)\n",
      "\u001b[31mNameError\u001b[39m: name 'points' is not defined"
     ]
    },
    {
     "data": {
      "image/png": "[encoded data removed]",
      "text/plain": [
       "<Figure size 640x480 with 1 Axes>"
      ]
     },
     "metadata": {},
     "output_type": "display_data"
    }
   ],
   "source": [
    "fig, ax = plt.subplots()\n",
    "sc = ax.scatter(points[:, horiz_axis], points[:, vert_axis], c=speed, cmap='viridis', s=0.01)\n",
    "ax.set_xlabel('X Coordinate')\n",
    "ax.set_ylabel('Y Coordinate')\n",
    "ax.set_title('Speed at Y = 0')\n",
    "def update(frame):\n",
    "    ax.clear()\n",
    "    ax.set_title(f'Speed at Y = {frame}')\n",
    "    mask = points[:, depth_axis] >= frame - width_gross / 2\n",
    "    mask &= points[:, depth_axis] <= frame + width_gross / 2\n",
    "    sc = ax.scatter(points[mask, horiz_axis], points[mask, vert_axis], c=speed[mask], cmap='viridis', s=1)\n",
    "    return sc,\n",
    "\n",
    "ani = FuncAnimation(fig, update, frames=depth_gross, blit=False, repeat=True)\n",
    "plt.colorbar(sc, ax=ax, label='Speed')\n",
    "## save plot\n",
    "ani.save('1serp_noChem_speed_animation_test.gif', writer='imagemagick', fps=10)"
   ]
  },
  {
   "cell_type": "markdown",
   "id": "cfbf4a68",
   "metadata": {},
   "source": [
    "Optional : Plot only the points (without coloring the speed of the fluid)"
   ]
  },
  {
   "cell_type": "code",
   "execution_count": null,
   "id": "7c5c49ca",
   "metadata": {},
   "outputs": [],
   "source": [
    "fig, ax = plt.subplots()\n",
    "sc = ax.scatter(points[:, 2], points[:, 0], c = \"red\", s = 1)\n",
    "ax.set_xlabel('X Coordinate')\n",
    "ax.set_ylabel('Y Coordinate')\n",
    "ax.set_title('Speed at Z = 0')\n",
    "def update(frame):\n",
    "    ax.clear()\n",
    "    ax.set_title(f'Speed at Z = {frame}')\n",
    "    mask = points[:, 1] >= frame - width_gross / 2\n",
    "    mask &= points[:, 1] <= frame + width_gross / 2\n",
    "    sc = ax.scatter(points[mask, 2], points[mask, 0], c = \"red\", s = 1)\n",
    "    return sc,\n",
    "ani = FuncAnimation(fig, update, frames=depth_gross, blit=False, repeat=True)\n",
    "## save plot\n",
    "ani.save('battery.gif', writer='imagemagick', fps=20)"
   ]
  },
  {
   "cell_type": "markdown",
   "id": "6228bef1",
   "metadata": {},
   "source": [
    "After looking at the speed gif, we are going to only take the slice that represents either anode or cathode."
   ]
  },
  {
   "cell_type": "markdown",
   "id": "603e58b5",
   "metadata": {},
   "source": [
    "We are going to work on the second half of the flow channel (bigger Y)"
   ]
  },
  {
   "cell_type": "code",
   "execution_count": 15,
   "id": "464ca4be",
   "metadata": {},
   "outputs": [
    {
     "name": "stdout",
     "output_type": "stream",
     "text": [
      "start of the flow 0.0025688263333333333\n",
      "end of the flow 0.003484861\n"
     ]
    }
   ],
   "source": [
    "print(\"start of the flow\", depth_gross[22])\n",
    "print(\"end of the flow\", depth_gross[30])"
   ]
  },
  {
   "cell_type": "code",
   "execution_count": null,
   "id": "02ad65da",
   "metadata": {},
   "outputs": [],
   "source": [
    "points.shape"
   ]
  },
  {
   "cell_type": "markdown",
   "id": "154890a1",
   "metadata": {},
   "source": [
    "## Save the flow data only"
   ]
  },
  {
   "cell_type": "code",
   "execution_count": null,
   "id": "75d2ba46",
   "metadata": {},
   "outputs": [],
   "source": [
    "start_slice = 22\n",
    "end_slice = 30"
   ]
  },
  {
   "cell_type": "code",
   "execution_count": null,
   "id": "bf0a8e8d",
   "metadata": {},
   "outputs": [],
   "source": [
    "df_flow_slice = df_flow[df_flow['Points:1'] >= depth_gross[start_slice]]\n",
    "df_flow_slice = df_flow_slice[df_flow_slice['Points:1'] <= depth_gross[end_slice]]\n",
    "\n",
    "df_wall_slice = df_wall[df_wall['Points:1'] >= depth_gross[start_slice]]\n",
    "df_wall_slice = df_wall_slice[df_wall_slice['Points:1'] <= depth_gross[end_slice]]\n"
   ]
  },
  {
   "cell_type": "code",
   "execution_count": 19,
   "id": "95daf9d2",
   "metadata": {},
   "outputs": [],
   "source": [
    "save_file = \"./data/1serp_noChem_cleaned_flow_sliced.csv\"\n",
    "df_flow_slice.to_csv(save_file, index=False)"
   ]
  },
  {
   "cell_type": "code",
   "execution_count": 20,
   "id": "e77252f3",
   "metadata": {},
   "outputs": [],
   "source": [
    "save_file = \"./data/1serp_noChem_cleaned_wall_sliced.csv\"\n",
    "df_wall_slice.to_csv(save_file, index=False)"
   ]
  },
  {
   "cell_type": "markdown",
   "id": "d39e9621",
   "metadata": {},
   "source": []
  }
 ],
 "metadata": {
  "kernelspec": {
   "display_name": "vincent",
   "language": "python",
   "name": "python3"
  },
  "language_info": {
   "codemirror_mode": {
    "name": "ipython",
    "version": 3
   },
   "file_extension": ".py",
   "mimetype": "text/x-python",
   "name": "python",
   "nbconvert_exporter": "python",
   "pygments_lexer": "ipython3",
   "version": "3.12.2"
  }
 },
 "nbformat": 4,
 "nbformat_minor": 5
}
