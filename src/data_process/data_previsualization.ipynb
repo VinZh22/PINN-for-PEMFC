{
 "cells": [
  {
   "cell_type": "code",
   "execution_count": 1,
   "id": "75667a1a",
   "metadata": {},
   "outputs": [],
   "source": [
    "import pandas as pd"
   ]
  },
  {
   "cell_type": "code",
   "execution_count": 8,
   "id": "f852077a",
   "metadata": {},
   "outputs": [
    {
     "name": "stdout",
     "output_type": "stream",
     "text": [
      "Current working directory: /home/fdht09/vincent/DeepXDE_test/PINN_custom/src/data_process\n"
     ]
    }
   ],
   "source": [
    "import os\n",
    "print(\"Current working directory:\", os.getcwd())"
   ]
  },
  {
   "cell_type": "code",
   "execution_count": 13,
   "id": "7190feac",
   "metadata": {},
   "outputs": [
    {
     "name": "stdout",
     "output_type": "stream",
     "text": [
      "Contents of current directory: ['main.py', 'data', '__pycache__', 'src', 'results']\n"
     ]
    }
   ],
   "source": [
    "print(\"Contents of current directory:\", os.listdir('../..'))"
   ]
  },
  {
   "cell_type": "code",
   "execution_count": 14,
   "id": "2cb84772",
   "metadata": {},
   "outputs": [],
   "source": [
    "file_path = \"../../data/cylinder.csv\"\n",
    "df = pd.read_csv(file_path)"
   ]
  },
  {
   "cell_type": "code",
   "execution_count": 15,
   "id": "67d6645d",
   "metadata": {},
   "outputs": [
    {
     "data": {
      "text/html": [
       "<div>\n",
       "<style scoped>\n",
       "    .dataframe tbody tr th:only-of-type {\n",
       "        vertical-align: middle;\n",
       "    }\n",
       "\n",
       "    .dataframe tbody tr th {\n",
       "        vertical-align: top;\n",
       "    }\n",
       "\n",
       "    .dataframe thead th {\n",
       "        text-align: right;\n",
       "    }\n",
       "</style>\n",
       "<table border=\"1\" class=\"dataframe\">\n",
       "  <thead>\n",
       "    <tr style=\"text-align: right;\">\n",
       "      <th></th>\n",
       "      <th>TimeStep</th>\n",
       "      <th>Time</th>\n",
       "      <th>Points:0</th>\n",
       "      <th>Points:1</th>\n",
       "      <th>Points:2</th>\n",
       "      <th>U:0</th>\n",
       "      <th>U:1</th>\n",
       "      <th>U:2</th>\n",
       "      <th>p</th>\n",
       "    </tr>\n",
       "  </thead>\n",
       "  <tbody>\n",
       "    <tr>\n",
       "      <th>count</th>\n",
       "      <td>2.826000e+06</td>\n",
       "      <td>2.826000e+06</td>\n",
       "      <td>2.826000e+06</td>\n",
       "      <td>2.826000e+06</td>\n",
       "      <td>2826000.0</td>\n",
       "      <td>2.826000e+06</td>\n",
       "      <td>2.826000e+06</td>\n",
       "      <td>2.826000e+06</td>\n",
       "      <td>2.826000e+06</td>\n",
       "    </tr>\n",
       "    <tr>\n",
       "      <th>mean</th>\n",
       "      <td>7.450000e+01</td>\n",
       "      <td>7.550000e+01</td>\n",
       "      <td>3.088352e+00</td>\n",
       "      <td>-1.905240e-16</td>\n",
       "      <td>0.0</td>\n",
       "      <td>9.113882e-01</td>\n",
       "      <td>3.184817e-05</td>\n",
       "      <td>3.356372e-23</td>\n",
       "      <td>-3.673176e-02</td>\n",
       "    </tr>\n",
       "    <tr>\n",
       "      <th>std</th>\n",
       "      <td>4.330032e+01</td>\n",
       "      <td>4.330032e+01</td>\n",
       "      <td>1.051818e+01</td>\n",
       "      <td>8.089716e+00</td>\n",
       "      <td>0.5</td>\n",
       "      <td>3.204348e-01</td>\n",
       "      <td>1.304893e-01</td>\n",
       "      <td>3.136053e-20</td>\n",
       "      <td>1.302342e-01</td>\n",
       "    </tr>\n",
       "    <tr>\n",
       "      <th>min</th>\n",
       "      <td>0.000000e+00</td>\n",
       "      <td>1.000000e+00</td>\n",
       "      <td>-2.000000e+01</td>\n",
       "      <td>-2.000000e+01</td>\n",
       "      <td>-0.5</td>\n",
       "      <td>-7.676100e-01</td>\n",
       "      <td>-7.623700e-01</td>\n",
       "      <td>-5.852500e-19</td>\n",
       "      <td>-1.107800e+00</td>\n",
       "    </tr>\n",
       "    <tr>\n",
       "      <th>25%</th>\n",
       "      <td>3.700000e+01</td>\n",
       "      <td>3.800000e+01</td>\n",
       "      <td>-2.529800e+00</td>\n",
       "      <td>-4.016300e+00</td>\n",
       "      <td>-0.5</td>\n",
       "      <td>9.573200e-01</td>\n",
       "      <td>-3.388500e-02</td>\n",
       "      <td>0.000000e+00</td>\n",
       "      <td>-8.847100e-02</td>\n",
       "    </tr>\n",
       "    <tr>\n",
       "      <th>50%</th>\n",
       "      <td>7.450000e+01</td>\n",
       "      <td>7.550000e+01</td>\n",
       "      <td>1.253800e+00</td>\n",
       "      <td>0.000000e+00</td>\n",
       "      <td>0.0</td>\n",
       "      <td>1.007600e+00</td>\n",
       "      <td>0.000000e+00</td>\n",
       "      <td>0.000000e+00</td>\n",
       "      <td>-8.612850e-03</td>\n",
       "    </tr>\n",
       "    <tr>\n",
       "      <th>75%</th>\n",
       "      <td>1.120000e+02</td>\n",
       "      <td>1.130000e+02</td>\n",
       "      <td>8.715400e+00</td>\n",
       "      <td>4.016300e+00</td>\n",
       "      <td>0.5</td>\n",
       "      <td>1.056400e+00</td>\n",
       "      <td>3.408900e-02</td>\n",
       "      <td>0.000000e+00</td>\n",
       "      <td>2.791800e-02</td>\n",
       "    </tr>\n",
       "    <tr>\n",
       "      <th>max</th>\n",
       "      <td>1.490000e+02</td>\n",
       "      <td>1.500000e+02</td>\n",
       "      <td>3.000000e+01</td>\n",
       "      <td>2.000000e+01</td>\n",
       "      <td>0.5</td>\n",
       "      <td>1.631500e+00</td>\n",
       "      <td>7.623700e-01</td>\n",
       "      <td>7.135600e-19</td>\n",
       "      <td>5.933900e-01</td>\n",
       "    </tr>\n",
       "  </tbody>\n",
       "</table>\n",
       "</div>"
      ],
      "text/plain": [
       "           TimeStep          Time      Points:0      Points:1   Points:2  \\\n",
       "count  2.826000e+06  2.826000e+06  2.826000e+06  2.826000e+06  2826000.0   \n",
       "mean   7.450000e+01  7.550000e+01  3.088352e+00 -1.905240e-16        0.0   \n",
       "std    4.330032e+01  4.330032e+01  1.051818e+01  8.089716e+00        0.5   \n",
       "min    0.000000e+00  1.000000e+00 -2.000000e+01 -2.000000e+01       -0.5   \n",
       "25%    3.700000e+01  3.800000e+01 -2.529800e+00 -4.016300e+00       -0.5   \n",
       "50%    7.450000e+01  7.550000e+01  1.253800e+00  0.000000e+00        0.0   \n",
       "75%    1.120000e+02  1.130000e+02  8.715400e+00  4.016300e+00        0.5   \n",
       "max    1.490000e+02  1.500000e+02  3.000000e+01  2.000000e+01        0.5   \n",
       "\n",
       "                U:0           U:1           U:2             p  \n",
       "count  2.826000e+06  2.826000e+06  2.826000e+06  2.826000e+06  \n",
       "mean   9.113882e-01  3.184817e-05  3.356372e-23 -3.673176e-02  \n",
       "std    3.204348e-01  1.304893e-01  3.136053e-20  1.302342e-01  \n",
       "min   -7.676100e-01 -7.623700e-01 -5.852500e-19 -1.107800e+00  \n",
       "25%    9.573200e-01 -3.388500e-02  0.000000e+00 -8.847100e-02  \n",
       "50%    1.007600e+00  0.000000e+00  0.000000e+00 -8.612850e-03  \n",
       "75%    1.056400e+00  3.408900e-02  0.000000e+00  2.791800e-02  \n",
       "max    1.631500e+00  7.623700e-01  7.135600e-19  5.933900e-01  "
      ]
     },
     "execution_count": 15,
     "metadata": {},
     "output_type": "execute_result"
    }
   ],
   "source": [
    "df.describe()"
   ]
  },
  {
   "cell_type": "code",
   "execution_count": null,
   "id": "a8ab12c4",
   "metadata": {},
   "outputs": [],
   "source": []
  }
 ],
 "metadata": {
  "kernelspec": {
   "display_name": "vincent",
   "language": "python",
   "name": "python3"
  },
  "language_info": {
   "codemirror_mode": {
    "name": "ipython",
    "version": 3
   },
   "file_extension": ".py",
   "mimetype": "text/x-python",
   "name": "python",
   "nbconvert_exporter": "python",
   "pygments_lexer": "ipython3",
   "version": "3.12.2"
  }
 },
 "nbformat": 4,
 "nbformat_minor": 5
}
